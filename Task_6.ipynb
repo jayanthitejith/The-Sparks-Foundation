{
  "nbformat": 4,
  "nbformat_minor": 0,
  "metadata": {
    "colab": {
      "name": "Task_6.ipynb",
      "provenance": [],
      "collapsed_sections": []
    },
    "kernelspec": {
      "display_name": "Python 3",
      "name": "python3"
    }
  },
  "cells": [
    {
      "cell_type": "code",
      "metadata": {
        "id": "IAAbX1PzTnQO",
        "colab": {
          "base_uri": "https://localhost:8080/"
        },
        "outputId": "8cf42f86-e5b2-4b41-9381-81bffdd7b0d2"
      },
      "source": [
        "import warnings\r\n",
        "warnings.filterwarnings('ignore')\r\n",
        "\r\n",
        "import math\r\n",
        "import pandas as pd\r\n",
        "import numpy as np\r\n",
        "\r\n",
        "import matplotlib.pyplot as plt\r\n",
        "import seaborn as sns\r\n",
        "\r\n",
        "from sklearn import preprocessing, metrics\r\n",
        "from sklearn.preprocessing import MinMaxScaler\r\n",
        "\r\n",
        "from keras.models import Sequential\r\n",
        "from keras.layers import Dense, LSTM, Dropout, Dense, Activation\r\n",
        "\r\n",
        "import nltk as nltk\r\n",
        "nltk.download('vader_lexicon')\r\n",
        "from nltk.classify import NaiveBayesClassifier\r\n",
        "from nltk.corpus import subjectivity\r\n",
        "from nltk.sentiment import SentimentAnalyzer\r\n",
        "from nltk.sentiment.util import *\r\n",
        "from nltk.sentiment.vader import SentimentIntensityAnalyzer\r\n",
        "print('Import Successfull')"
      ],
      "execution_count": 9,
      "outputs": [
        {
          "output_type": "stream",
          "text": [
            "[nltk_data] Downloading package vader_lexicon to /root/nltk_data...\n",
            "[nltk_data]   Package vader_lexicon is already up-to-date!\n",
            "Import Successfull\n"
          ],
          "name": "stdout"
        }
      ]
    },
    {
      "cell_type": "code",
      "metadata": {
        "colab": {
          "base_uri": "https://localhost:8080/"
        },
        "id": "eQkrndIbUBKC",
        "outputId": "8b8dfe71-6429-4e19-8868-bc96fc69be33"
      },
      "source": [
        "#Importing stock prices Data-Set\r\n",
        "stock_price = pd.read_csv('/content/^BSESN.csv')\r\n",
        "print('Data Import Successful')"
      ],
      "execution_count": 11,
      "outputs": [
        {
          "output_type": "stream",
          "text": [
            "Data Import Successful\n"
          ],
          "name": "stdout"
        }
      ]
    },
    {
      "cell_type": "code",
      "metadata": {
        "id": "6PmQ-wDHVOBy",
        "colab": {
          "base_uri": "https://localhost:8080/",
          "height": 226
        },
        "outputId": "5fcdbeca-829b-4d9d-b4dc-f606f94f44e1"
      },
      "source": [
        "stock_price.head()"
      ],
      "execution_count": null,
      "outputs": [
        {
          "output_type": "execute_result",
          "data": {
            "text/html": [
              "<div>\n",
              "<style scoped>\n",
              "    .dataframe tbody tr th:only-of-type {\n",
              "        vertical-align: middle;\n",
              "    }\n",
              "\n",
              "    .dataframe tbody tr th {\n",
              "        vertical-align: top;\n",
              "    }\n",
              "\n",
              "    .dataframe thead th {\n",
              "        text-align: right;\n",
              "    }\n",
              "</style>\n",
              "<table border=\"1\" class=\"dataframe\">\n",
              "  <thead>\n",
              "    <tr style=\"text-align: right;\">\n",
              "      <th></th>\n",
              "      <th>Close</th>\n",
              "      <th>Open</th>\n",
              "      <th>High</th>\n",
              "      <th>Low</th>\n",
              "      <th>Volume</th>\n",
              "    </tr>\n",
              "    <tr>\n",
              "      <th>Date</th>\n",
              "      <th></th>\n",
              "      <th></th>\n",
              "      <th></th>\n",
              "      <th></th>\n",
              "      <th></th>\n",
              "    </tr>\n",
              "  </thead>\n",
              "  <tbody>\n",
              "    <tr>\n",
              "      <th>2005-01-03</th>\n",
              "      <td>6679.200195</td>\n",
              "      <td>6626.490234</td>\n",
              "      <td>6684.220215</td>\n",
              "      <td>6626.490234</td>\n",
              "      <td>12000.0</td>\n",
              "    </tr>\n",
              "    <tr>\n",
              "      <th>2005-01-04</th>\n",
              "      <td>6651.009766</td>\n",
              "      <td>6683.560059</td>\n",
              "      <td>6696.310059</td>\n",
              "      <td>6640.899902</td>\n",
              "      <td>16600.0</td>\n",
              "    </tr>\n",
              "    <tr>\n",
              "      <th>2005-01-05</th>\n",
              "      <td>6458.839844</td>\n",
              "      <td>6628.890137</td>\n",
              "      <td>6629.979980</td>\n",
              "      <td>6337.609863</td>\n",
              "      <td>24000.0</td>\n",
              "    </tr>\n",
              "    <tr>\n",
              "      <th>2005-01-06</th>\n",
              "      <td>6367.390137</td>\n",
              "      <td>6447.270020</td>\n",
              "      <td>6481.229980</td>\n",
              "      <td>6325.359863</td>\n",
              "      <td>22200.0</td>\n",
              "    </tr>\n",
              "    <tr>\n",
              "      <th>2005-01-07</th>\n",
              "      <td>6420.459961</td>\n",
              "      <td>6374.189941</td>\n",
              "      <td>6440.169922</td>\n",
              "      <td>6348.750000</td>\n",
              "      <td>17800.0</td>\n",
              "    </tr>\n",
              "  </tbody>\n",
              "</table>\n",
              "</div>"
            ],
            "text/plain": [
              "                  Close         Open         High          Low   Volume\n",
              "Date                                                                   \n",
              "2005-01-03  6679.200195  6626.490234  6684.220215  6626.490234  12000.0\n",
              "2005-01-04  6651.009766  6683.560059  6696.310059  6640.899902  16600.0\n",
              "2005-01-05  6458.839844  6628.890137  6629.979980  6337.609863  24000.0\n",
              "2005-01-06  6367.390137  6447.270020  6481.229980  6325.359863  22200.0\n",
              "2005-01-07  6420.459961  6374.189941  6440.169922  6348.750000  17800.0"
            ]
          },
          "metadata": {
            "tags": []
          },
          "execution_count": 37
        }
      ]
    },
    {
      "cell_type": "code",
      "metadata": {
        "id": "i1WnTgBVxmdV"
      },
      "source": [
        "stock_headlines = pd.read_csv('/content/india-news-headlines.csv')"
      ],
      "execution_count": 12,
      "outputs": []
    },
    {
      "cell_type": "code",
      "metadata": {
        "colab": {
          "base_uri": "https://localhost:8080/",
          "height": 196
        },
        "id": "5Kyy6_l_w2E5",
        "outputId": "7acd00ee-4439-4c9c-cf68-a944bb8dd6a8"
      },
      "source": [
        "stock_headlines.head()"
      ],
      "execution_count": 13,
      "outputs": [
        {
          "output_type": "execute_result",
          "data": {
            "text/html": [
              "<div>\n",
              "<style scoped>\n",
              "    .dataframe tbody tr th:only-of-type {\n",
              "        vertical-align: middle;\n",
              "    }\n",
              "\n",
              "    .dataframe tbody tr th {\n",
              "        vertical-align: top;\n",
              "    }\n",
              "\n",
              "    .dataframe thead th {\n",
              "        text-align: right;\n",
              "    }\n",
              "</style>\n",
              "<table border=\"1\" class=\"dataframe\">\n",
              "  <thead>\n",
              "    <tr style=\"text-align: right;\">\n",
              "      <th></th>\n",
              "      <th>publish_date</th>\n",
              "      <th>headline_category</th>\n",
              "      <th>headline_text</th>\n",
              "    </tr>\n",
              "  </thead>\n",
              "  <tbody>\n",
              "    <tr>\n",
              "      <th>0</th>\n",
              "      <td>20010102</td>\n",
              "      <td>unknown</td>\n",
              "      <td>Status quo will not be disturbed at Ayodhya; s...</td>\n",
              "    </tr>\n",
              "    <tr>\n",
              "      <th>1</th>\n",
              "      <td>20010102</td>\n",
              "      <td>unknown</td>\n",
              "      <td>Fissures in Hurriyat over Pak visit</td>\n",
              "    </tr>\n",
              "    <tr>\n",
              "      <th>2</th>\n",
              "      <td>20010102</td>\n",
              "      <td>unknown</td>\n",
              "      <td>America's unwanted heading for India?</td>\n",
              "    </tr>\n",
              "    <tr>\n",
              "      <th>3</th>\n",
              "      <td>20010102</td>\n",
              "      <td>unknown</td>\n",
              "      <td>For bigwigs; it is destination Goa</td>\n",
              "    </tr>\n",
              "    <tr>\n",
              "      <th>4</th>\n",
              "      <td>20010102</td>\n",
              "      <td>unknown</td>\n",
              "      <td>Extra buses to clear tourist traffic</td>\n",
              "    </tr>\n",
              "  </tbody>\n",
              "</table>\n",
              "</div>"
            ],
            "text/plain": [
              "   publish_date  ...                                      headline_text\n",
              "0      20010102  ...  Status quo will not be disturbed at Ayodhya; s...\n",
              "1      20010102  ...                Fissures in Hurriyat over Pak visit\n",
              "2      20010102  ...              America's unwanted heading for India?\n",
              "3      20010102  ...                 For bigwigs; it is destination Goa\n",
              "4      20010102  ...               Extra buses to clear tourist traffic\n",
              "\n",
              "[5 rows x 3 columns]"
            ]
          },
          "metadata": {
            "tags": []
          },
          "execution_count": 13
        }
      ]
    },
    {
      "cell_type": "code",
      "metadata": {
        "colab": {
          "base_uri": "https://localhost:8080/"
        },
        "id": "I6NwQPyRnNwe",
        "outputId": "e6383efe-f823-48d8-ac52-d7d6a5af4c57"
      },
      "source": [
        "len(stock_price), len(stock_headlines)"
      ],
      "execution_count": 14,
      "outputs": [
        {
          "output_type": "execute_result",
          "data": {
            "text/plain": [
              "(4003, 3424067)"
            ]
          },
          "metadata": {
            "tags": []
          },
          "execution_count": 14
        }
      ]
    },
    {
      "cell_type": "code",
      "metadata": {
        "colab": {
          "base_uri": "https://localhost:8080/"
        },
        "id": "F620Nv0rnN2u",
        "outputId": "7db81978-ea09-4fa1-96ca-6aba329ee4e2"
      },
      "source": [
        "stock_price.isna().any(), stock_headlines.isna().any()"
      ],
      "execution_count": 15,
      "outputs": [
        {
          "output_type": "execute_result",
          "data": {
            "text/plain": [
              "(Date         False\n",
              " Open          True\n",
              " High          True\n",
              " Low           True\n",
              " Close         True\n",
              " Adj Close     True\n",
              " Volume        True\n",
              " dtype: bool, publish_date         False\n",
              " headline_category    False\n",
              " headline_text        False\n",
              " dtype: bool)"
            ]
          },
          "metadata": {
            "tags": []
          },
          "execution_count": 15
        }
      ]
    },
    {
      "cell_type": "markdown",
      "metadata": {
        "id": "t0boUldCpmX_"
      },
      "source": [
        "**Stock Prices**"
      ]
    },
    {
      "cell_type": "code",
      "metadata": {
        "id": "l4EtJ55GnN8y"
      },
      "source": [
        "stock_price.dropna(axis = 0, inplace = True)"
      ],
      "execution_count": 16,
      "outputs": []
    },
    {
      "cell_type": "code",
      "metadata": {
        "colab": {
          "base_uri": "https://localhost:8080/",
          "height": 434
        },
        "id": "RfIJX97pphKE",
        "outputId": "5922149c-4944-4aac-90cc-dbb8cd8a0781"
      },
      "source": [
        "# dropping duplicates in data\r\n",
        "stock_price = stock_price.drop_duplicates()\r\n",
        "\r\n",
        "# coverting the datatype of column 'Date' from type object to type 'datetime'\r\n",
        "stock_price['Date'] = pd.to_datetime(stock_price['Date']).dt.normalize()\r\n",
        "\r\n",
        "# filtering the important columns\r\n",
        "stock_price = stock_price.filter(['Date', 'Close', 'Open', 'High', 'Low', 'Volume'])\r\n",
        "\r\n",
        "# setting column 'Date' as the index column\r\n",
        "stock_price.set_index('Date', inplace= True)\r\n",
        "\r\n",
        "# sorting the data according to Date\r\n",
        "stock_price = stock_price.sort_index(ascending=True, axis=0)\r\n",
        "stock_price"
      ],
      "execution_count": 17,
      "outputs": [
        {
          "output_type": "execute_result",
          "data": {
            "text/html": [
              "<div>\n",
              "<style scoped>\n",
              "    .dataframe tbody tr th:only-of-type {\n",
              "        vertical-align: middle;\n",
              "    }\n",
              "\n",
              "    .dataframe tbody tr th {\n",
              "        vertical-align: top;\n",
              "    }\n",
              "\n",
              "    .dataframe thead th {\n",
              "        text-align: right;\n",
              "    }\n",
              "</style>\n",
              "<table border=\"1\" class=\"dataframe\">\n",
              "  <thead>\n",
              "    <tr style=\"text-align: right;\">\n",
              "      <th></th>\n",
              "      <th>Close</th>\n",
              "      <th>Open</th>\n",
              "      <th>High</th>\n",
              "      <th>Low</th>\n",
              "      <th>Volume</th>\n",
              "    </tr>\n",
              "    <tr>\n",
              "      <th>Date</th>\n",
              "      <th></th>\n",
              "      <th></th>\n",
              "      <th></th>\n",
              "      <th></th>\n",
              "      <th></th>\n",
              "    </tr>\n",
              "  </thead>\n",
              "  <tbody>\n",
              "    <tr>\n",
              "      <th>2005-01-03</th>\n",
              "      <td>6679.200195</td>\n",
              "      <td>6626.490234</td>\n",
              "      <td>6684.220215</td>\n",
              "      <td>6626.490234</td>\n",
              "      <td>12000.0</td>\n",
              "    </tr>\n",
              "    <tr>\n",
              "      <th>2005-01-04</th>\n",
              "      <td>6651.009766</td>\n",
              "      <td>6683.560059</td>\n",
              "      <td>6696.310059</td>\n",
              "      <td>6640.899902</td>\n",
              "      <td>16600.0</td>\n",
              "    </tr>\n",
              "    <tr>\n",
              "      <th>2005-01-05</th>\n",
              "      <td>6458.839844</td>\n",
              "      <td>6628.890137</td>\n",
              "      <td>6629.979980</td>\n",
              "      <td>6337.609863</td>\n",
              "      <td>24000.0</td>\n",
              "    </tr>\n",
              "    <tr>\n",
              "      <th>2005-01-06</th>\n",
              "      <td>6367.390137</td>\n",
              "      <td>6447.270020</td>\n",
              "      <td>6481.229980</td>\n",
              "      <td>6325.359863</td>\n",
              "      <td>22200.0</td>\n",
              "    </tr>\n",
              "    <tr>\n",
              "      <th>2005-01-07</th>\n",
              "      <td>6420.459961</td>\n",
              "      <td>6374.189941</td>\n",
              "      <td>6440.169922</td>\n",
              "      <td>6348.750000</td>\n",
              "      <td>17800.0</td>\n",
              "    </tr>\n",
              "    <tr>\n",
              "      <th>...</th>\n",
              "      <td>...</td>\n",
              "      <td>...</td>\n",
              "      <td>...</td>\n",
              "      <td>...</td>\n",
              "      <td>...</td>\n",
              "    </tr>\n",
              "    <tr>\n",
              "      <th>2021-03-05</th>\n",
              "      <td>50405.320313</td>\n",
              "      <td>50517.359375</td>\n",
              "      <td>50886.191406</td>\n",
              "      <td>50160.539063</td>\n",
              "      <td>19200.0</td>\n",
              "    </tr>\n",
              "    <tr>\n",
              "      <th>2021-03-08</th>\n",
              "      <td>50441.070313</td>\n",
              "      <td>50654.019531</td>\n",
              "      <td>50985.769531</td>\n",
              "      <td>50318.261719</td>\n",
              "      <td>14200.0</td>\n",
              "    </tr>\n",
              "    <tr>\n",
              "      <th>2021-03-09</th>\n",
              "      <td>51025.480469</td>\n",
              "      <td>50714.160156</td>\n",
              "      <td>51111.941406</td>\n",
              "      <td>50396.101563</td>\n",
              "      <td>12200.0</td>\n",
              "    </tr>\n",
              "    <tr>\n",
              "      <th>2021-03-10</th>\n",
              "      <td>51279.511719</td>\n",
              "      <td>51404.679688</td>\n",
              "      <td>51430.429688</td>\n",
              "      <td>51048.929688</td>\n",
              "      <td>9300.0</td>\n",
              "    </tr>\n",
              "    <tr>\n",
              "      <th>2021-03-12</th>\n",
              "      <td>50792.078125</td>\n",
              "      <td>51660.980469</td>\n",
              "      <td>51821.839844</td>\n",
              "      <td>50538.429688</td>\n",
              "      <td>12200.0</td>\n",
              "    </tr>\n",
              "  </tbody>\n",
              "</table>\n",
              "<p>3972 rows × 5 columns</p>\n",
              "</div>"
            ],
            "text/plain": [
              "                   Close          Open          High           Low   Volume\n",
              "Date                                                                       \n",
              "2005-01-03   6679.200195   6626.490234   6684.220215   6626.490234  12000.0\n",
              "2005-01-04   6651.009766   6683.560059   6696.310059   6640.899902  16600.0\n",
              "2005-01-05   6458.839844   6628.890137   6629.979980   6337.609863  24000.0\n",
              "2005-01-06   6367.390137   6447.270020   6481.229980   6325.359863  22200.0\n",
              "2005-01-07   6420.459961   6374.189941   6440.169922   6348.750000  17800.0\n",
              "...                  ...           ...           ...           ...      ...\n",
              "2021-03-05  50405.320313  50517.359375  50886.191406  50160.539063  19200.0\n",
              "2021-03-08  50441.070313  50654.019531  50985.769531  50318.261719  14200.0\n",
              "2021-03-09  51025.480469  50714.160156  51111.941406  50396.101563  12200.0\n",
              "2021-03-10  51279.511719  51404.679688  51430.429688  51048.929688   9300.0\n",
              "2021-03-12  50792.078125  51660.980469  51821.839844  50538.429688  12200.0\n",
              "\n",
              "[3972 rows x 5 columns]"
            ]
          },
          "metadata": {
            "tags": []
          },
          "execution_count": 17
        }
      ]
    },
    {
      "cell_type": "markdown",
      "metadata": {
        "id": "hFbr_oZqt--f"
      },
      "source": [
        "**Stock Headlines**"
      ]
    },
    {
      "cell_type": "code",
      "metadata": {
        "id": "DPXcsQ0lphPF",
        "colab": {
          "base_uri": "https://localhost:8080/",
          "height": 434
        },
        "outputId": "8bdcbd58-18ac-4c92-c9a7-8affeada7fd3"
      },
      "source": [
        "# dropping duplicates\r\n",
        "stock_headlines = stock_headlines.drop_duplicates()\r\n",
        "\r\n",
        "# coverting the datatype of column 'Date' from type string to type 'datetime'\r\n",
        "stock_headlines['publish_date'] = stock_headlines['publish_date'].astype(str)\r\n",
        "stock_headlines['publish_date'] = stock_headlines['publish_date'].apply(lambda x: x[0:4]+'-'+x[4:6]+'-'+x[6:8])\r\n",
        "stock_headlines['publish_date'] = pd.to_datetime(stock_headlines['publish_date']).dt.normalize()\r\n",
        "\r\n",
        "# filtering the important columns \r\n",
        "stock_headlines = stock_headlines.filter(['publish_date', 'headline_text'])\r\n",
        "\r\n",
        "# grouping the news headlines according to Date\r\n",
        "stock_headlines = stock_headlines.groupby(['publish_date'])['headline_text'].apply(lambda x: ','.join(x)).reset_index()\r\n",
        "\r\n",
        "# setting Date as the index column\r\n",
        "stock_headlines.set_index('publish_date', inplace= True)\r\n",
        "\r\n",
        "# sorting the data according to the Date\r\n",
        "stock_headlines = stock_headlines.sort_index(ascending=True, axis=0)\r\n",
        "stock_headlines"
      ],
      "execution_count": 18,
      "outputs": [
        {
          "output_type": "execute_result",
          "data": {
            "text/html": [
              "<div>\n",
              "<style scoped>\n",
              "    .dataframe tbody tr th:only-of-type {\n",
              "        vertical-align: middle;\n",
              "    }\n",
              "\n",
              "    .dataframe tbody tr th {\n",
              "        vertical-align: top;\n",
              "    }\n",
              "\n",
              "    .dataframe thead th {\n",
              "        text-align: right;\n",
              "    }\n",
              "</style>\n",
              "<table border=\"1\" class=\"dataframe\">\n",
              "  <thead>\n",
              "    <tr style=\"text-align: right;\">\n",
              "      <th></th>\n",
              "      <th>headline_text</th>\n",
              "    </tr>\n",
              "    <tr>\n",
              "      <th>publish_date</th>\n",
              "      <th></th>\n",
              "    </tr>\n",
              "  </thead>\n",
              "  <tbody>\n",
              "    <tr>\n",
              "      <th>2001-01-02</th>\n",
              "      <td>Status quo will not be disturbed at Ayodhya; s...</td>\n",
              "    </tr>\n",
              "    <tr>\n",
              "      <th>2001-01-03</th>\n",
              "      <td>Powerless north India gropes in the dark,Think...</td>\n",
              "    </tr>\n",
              "    <tr>\n",
              "      <th>2001-01-04</th>\n",
              "      <td>The string that pulled Stephen Hawking to Indi...</td>\n",
              "    </tr>\n",
              "    <tr>\n",
              "      <th>2001-01-05</th>\n",
              "      <td>Light combat craft takes India into club class...</td>\n",
              "    </tr>\n",
              "    <tr>\n",
              "      <th>2001-01-06</th>\n",
              "      <td>Light combat craft takes India into club class...</td>\n",
              "    </tr>\n",
              "    <tr>\n",
              "      <th>...</th>\n",
              "      <td>...</td>\n",
              "    </tr>\n",
              "    <tr>\n",
              "      <th>2020-12-27</th>\n",
              "      <td>#BigInterview! Dhritiman Chatterjee: Nobody da...</td>\n",
              "    </tr>\n",
              "    <tr>\n",
              "      <th>2020-12-28</th>\n",
              "      <td>Horoscope Today; 28 December 2020: Check astro...</td>\n",
              "    </tr>\n",
              "    <tr>\n",
              "      <th>2020-12-29</th>\n",
              "      <td>Man recovers charred remains of 'thief' from h...</td>\n",
              "    </tr>\n",
              "    <tr>\n",
              "      <th>2020-12-30</th>\n",
              "      <td>Numerology Readings 30 December 2020: Predicti...</td>\n",
              "    </tr>\n",
              "    <tr>\n",
              "      <th>2020-12-31</th>\n",
              "      <td>Horoscope Today; 31 December 2020: Check astro...</td>\n",
              "    </tr>\n",
              "  </tbody>\n",
              "</table>\n",
              "<p>7262 rows × 1 columns</p>\n",
              "</div>"
            ],
            "text/plain": [
              "                                                  headline_text\n",
              "publish_date                                                   \n",
              "2001-01-02    Status quo will not be disturbed at Ayodhya; s...\n",
              "2001-01-03    Powerless north India gropes in the dark,Think...\n",
              "2001-01-04    The string that pulled Stephen Hawking to Indi...\n",
              "2001-01-05    Light combat craft takes India into club class...\n",
              "2001-01-06    Light combat craft takes India into club class...\n",
              "...                                                         ...\n",
              "2020-12-27    #BigInterview! Dhritiman Chatterjee: Nobody da...\n",
              "2020-12-28    Horoscope Today; 28 December 2020: Check astro...\n",
              "2020-12-29    Man recovers charred remains of 'thief' from h...\n",
              "2020-12-30    Numerology Readings 30 December 2020: Predicti...\n",
              "2020-12-31    Horoscope Today; 31 December 2020: Check astro...\n",
              "\n",
              "[7262 rows x 1 columns]"
            ]
          },
          "metadata": {
            "tags": []
          },
          "execution_count": 18
        }
      ]
    },
    {
      "cell_type": "code",
      "metadata": {
        "id": "dAL-s8vTphTm",
        "colab": {
          "base_uri": "https://localhost:8080/",
          "height": 404
        },
        "outputId": "d404b90a-0089-413d-a95b-7f47a63f2b04"
      },
      "source": [
        "stock_data = pd.concat([stock_price, stock_headlines], axis = 1)\r\n",
        "stock_data.dropna(axis = 0, inplace = True)\r\n",
        "stock_data"
      ],
      "execution_count": 19,
      "outputs": [
        {
          "output_type": "execute_result",
          "data": {
            "text/html": [
              "<div>\n",
              "<style scoped>\n",
              "    .dataframe tbody tr th:only-of-type {\n",
              "        vertical-align: middle;\n",
              "    }\n",
              "\n",
              "    .dataframe tbody tr th {\n",
              "        vertical-align: top;\n",
              "    }\n",
              "\n",
              "    .dataframe thead th {\n",
              "        text-align: right;\n",
              "    }\n",
              "</style>\n",
              "<table border=\"1\" class=\"dataframe\">\n",
              "  <thead>\n",
              "    <tr style=\"text-align: right;\">\n",
              "      <th></th>\n",
              "      <th>Close</th>\n",
              "      <th>Open</th>\n",
              "      <th>High</th>\n",
              "      <th>Low</th>\n",
              "      <th>Volume</th>\n",
              "      <th>headline_text</th>\n",
              "    </tr>\n",
              "  </thead>\n",
              "  <tbody>\n",
              "    <tr>\n",
              "      <th>2005-01-03</th>\n",
              "      <td>6679.200195</td>\n",
              "      <td>6626.490234</td>\n",
              "      <td>6684.220215</td>\n",
              "      <td>6626.490234</td>\n",
              "      <td>12000.0</td>\n",
              "      <td>ICAI compliments minister,Partnering for futur...</td>\n",
              "    </tr>\n",
              "    <tr>\n",
              "      <th>2005-01-04</th>\n",
              "      <td>6651.009766</td>\n",
              "      <td>6683.560059</td>\n",
              "      <td>6696.310059</td>\n",
              "      <td>6640.899902</td>\n",
              "      <td>16600.0</td>\n",
              "      <td>Arab Gaze,Uniform Laws,Tsunami Relief,Double S...</td>\n",
              "    </tr>\n",
              "    <tr>\n",
              "      <th>2005-01-05</th>\n",
              "      <td>6458.839844</td>\n",
              "      <td>6628.890137</td>\n",
              "      <td>6629.979980</td>\n",
              "      <td>6337.609863</td>\n",
              "      <td>24000.0</td>\n",
              "      <td>Quake Rumours,Mishap reunites 12-yr boy with f...</td>\n",
              "    </tr>\n",
              "    <tr>\n",
              "      <th>2005-01-06</th>\n",
              "      <td>6367.390137</td>\n",
              "      <td>6447.270020</td>\n",
              "      <td>6481.229980</td>\n",
              "      <td>6325.359863</td>\n",
              "      <td>22200.0</td>\n",
              "      <td>Doon School preparing to admit girls?,Market M...</td>\n",
              "    </tr>\n",
              "    <tr>\n",
              "      <th>2005-01-07</th>\n",
              "      <td>6420.459961</td>\n",
              "      <td>6374.189941</td>\n",
              "      <td>6440.169922</td>\n",
              "      <td>6348.750000</td>\n",
              "      <td>17800.0</td>\n",
              "      <td>Faultline Repair,No Parade; Please,NRI Spirit,...</td>\n",
              "    </tr>\n",
              "    <tr>\n",
              "      <th>...</th>\n",
              "      <td>...</td>\n",
              "      <td>...</td>\n",
              "      <td>...</td>\n",
              "      <td>...</td>\n",
              "      <td>...</td>\n",
              "      <td>...</td>\n",
              "    </tr>\n",
              "    <tr>\n",
              "      <th>2020-12-24</th>\n",
              "      <td>46973.539063</td>\n",
              "      <td>46743.488281</td>\n",
              "      <td>47053.398438</td>\n",
              "      <td>46539.019531</td>\n",
              "      <td>13700.0</td>\n",
              "      <td>How to set the mood for sex during cold winter...</td>\n",
              "    </tr>\n",
              "    <tr>\n",
              "      <th>2020-12-28</th>\n",
              "      <td>47353.750000</td>\n",
              "      <td>47153.589844</td>\n",
              "      <td>47406.718750</td>\n",
              "      <td>47148.238281</td>\n",
              "      <td>9600.0</td>\n",
              "      <td>Horoscope Today; 28 December 2020: Check astro...</td>\n",
              "    </tr>\n",
              "    <tr>\n",
              "      <th>2020-12-29</th>\n",
              "      <td>47613.078125</td>\n",
              "      <td>47466.621094</td>\n",
              "      <td>47714.550781</td>\n",
              "      <td>47361.898438</td>\n",
              "      <td>12800.0</td>\n",
              "      <td>Man recovers charred remains of 'thief' from h...</td>\n",
              "    </tr>\n",
              "    <tr>\n",
              "      <th>2020-12-30</th>\n",
              "      <td>47746.218750</td>\n",
              "      <td>47789.031250</td>\n",
              "      <td>47807.851563</td>\n",
              "      <td>47358.359375</td>\n",
              "      <td>15600.0</td>\n",
              "      <td>Numerology Readings 30 December 2020: Predicti...</td>\n",
              "    </tr>\n",
              "    <tr>\n",
              "      <th>2020-12-31</th>\n",
              "      <td>47751.328125</td>\n",
              "      <td>47753.109375</td>\n",
              "      <td>47896.968750</td>\n",
              "      <td>47602.121094</td>\n",
              "      <td>13900.0</td>\n",
              "      <td>Horoscope Today; 31 December 2020: Check astro...</td>\n",
              "    </tr>\n",
              "  </tbody>\n",
              "</table>\n",
              "<p>3924 rows × 6 columns</p>\n",
              "</div>"
            ],
            "text/plain": [
              "                   Close  ...                                      headline_text\n",
              "2005-01-03   6679.200195  ...  ICAI compliments minister,Partnering for futur...\n",
              "2005-01-04   6651.009766  ...  Arab Gaze,Uniform Laws,Tsunami Relief,Double S...\n",
              "2005-01-05   6458.839844  ...  Quake Rumours,Mishap reunites 12-yr boy with f...\n",
              "2005-01-06   6367.390137  ...  Doon School preparing to admit girls?,Market M...\n",
              "2005-01-07   6420.459961  ...  Faultline Repair,No Parade; Please,NRI Spirit,...\n",
              "...                  ...  ...                                                ...\n",
              "2020-12-24  46973.539063  ...  How to set the mood for sex during cold winter...\n",
              "2020-12-28  47353.750000  ...  Horoscope Today; 28 December 2020: Check astro...\n",
              "2020-12-29  47613.078125  ...  Man recovers charred remains of 'thief' from h...\n",
              "2020-12-30  47746.218750  ...  Numerology Readings 30 December 2020: Predicti...\n",
              "2020-12-31  47751.328125  ...  Horoscope Today; 31 December 2020: Check astro...\n",
              "\n",
              "[3924 rows x 6 columns]"
            ]
          },
          "metadata": {
            "tags": []
          },
          "execution_count": 19
        }
      ]
    },
    {
      "cell_type": "code",
      "metadata": {
        "id": "cjEou7s4phW3",
        "colab": {
          "base_uri": "https://localhost:8080/",
          "height": 364
        },
        "outputId": "4b0d2762-a870-4c9c-dd88-323f6f505db5"
      },
      "source": [
        "#Sentiment Analysis:-\r\n",
        "stock_data['coumpound'] = ''\r\n",
        "stock_data['negative'] = ''\r\n",
        "stock_data['neutral'] = ''\r\n",
        "stock_data['positive'] = ''\r\n",
        "stock_data.head()"
      ],
      "execution_count": 20,
      "outputs": [
        {
          "output_type": "execute_result",
          "data": {
            "text/html": [
              "<div>\n",
              "<style scoped>\n",
              "    .dataframe tbody tr th:only-of-type {\n",
              "        vertical-align: middle;\n",
              "    }\n",
              "\n",
              "    .dataframe tbody tr th {\n",
              "        vertical-align: top;\n",
              "    }\n",
              "\n",
              "    .dataframe thead th {\n",
              "        text-align: right;\n",
              "    }\n",
              "</style>\n",
              "<table border=\"1\" class=\"dataframe\">\n",
              "  <thead>\n",
              "    <tr style=\"text-align: right;\">\n",
              "      <th></th>\n",
              "      <th>Close</th>\n",
              "      <th>Open</th>\n",
              "      <th>High</th>\n",
              "      <th>Low</th>\n",
              "      <th>Volume</th>\n",
              "      <th>headline_text</th>\n",
              "      <th>coumpound</th>\n",
              "      <th>negative</th>\n",
              "      <th>neutral</th>\n",
              "      <th>positive</th>\n",
              "    </tr>\n",
              "  </thead>\n",
              "  <tbody>\n",
              "    <tr>\n",
              "      <th>2005-01-03</th>\n",
              "      <td>6679.200195</td>\n",
              "      <td>6626.490234</td>\n",
              "      <td>6684.220215</td>\n",
              "      <td>6626.490234</td>\n",
              "      <td>12000.0</td>\n",
              "      <td>ICAI compliments minister,Partnering for futur...</td>\n",
              "      <td></td>\n",
              "      <td></td>\n",
              "      <td></td>\n",
              "      <td></td>\n",
              "    </tr>\n",
              "    <tr>\n",
              "      <th>2005-01-04</th>\n",
              "      <td>6651.009766</td>\n",
              "      <td>6683.560059</td>\n",
              "      <td>6696.310059</td>\n",
              "      <td>6640.899902</td>\n",
              "      <td>16600.0</td>\n",
              "      <td>Arab Gaze,Uniform Laws,Tsunami Relief,Double S...</td>\n",
              "      <td></td>\n",
              "      <td></td>\n",
              "      <td></td>\n",
              "      <td></td>\n",
              "    </tr>\n",
              "    <tr>\n",
              "      <th>2005-01-05</th>\n",
              "      <td>6458.839844</td>\n",
              "      <td>6628.890137</td>\n",
              "      <td>6629.979980</td>\n",
              "      <td>6337.609863</td>\n",
              "      <td>24000.0</td>\n",
              "      <td>Quake Rumours,Mishap reunites 12-yr boy with f...</td>\n",
              "      <td></td>\n",
              "      <td></td>\n",
              "      <td></td>\n",
              "      <td></td>\n",
              "    </tr>\n",
              "    <tr>\n",
              "      <th>2005-01-06</th>\n",
              "      <td>6367.390137</td>\n",
              "      <td>6447.270020</td>\n",
              "      <td>6481.229980</td>\n",
              "      <td>6325.359863</td>\n",
              "      <td>22200.0</td>\n",
              "      <td>Doon School preparing to admit girls?,Market M...</td>\n",
              "      <td></td>\n",
              "      <td></td>\n",
              "      <td></td>\n",
              "      <td></td>\n",
              "    </tr>\n",
              "    <tr>\n",
              "      <th>2005-01-07</th>\n",
              "      <td>6420.459961</td>\n",
              "      <td>6374.189941</td>\n",
              "      <td>6440.169922</td>\n",
              "      <td>6348.750000</td>\n",
              "      <td>17800.0</td>\n",
              "      <td>Faultline Repair,No Parade; Please,NRI Spirit,...</td>\n",
              "      <td></td>\n",
              "      <td></td>\n",
              "      <td></td>\n",
              "      <td></td>\n",
              "    </tr>\n",
              "  </tbody>\n",
              "</table>\n",
              "</div>"
            ],
            "text/plain": [
              "                  Close         Open         High  ...  negative  neutral positive\n",
              "2005-01-03  6679.200195  6626.490234  6684.220215  ...                            \n",
              "2005-01-04  6651.009766  6683.560059  6696.310059  ...                            \n",
              "2005-01-05  6458.839844  6628.890137  6629.979980  ...                            \n",
              "2005-01-06  6367.390137  6447.270020  6481.229980  ...                            \n",
              "2005-01-07  6420.459961  6374.189941  6440.169922  ...                            \n",
              "\n",
              "[5 rows x 10 columns]"
            ]
          },
          "metadata": {
            "tags": []
          },
          "execution_count": 20
        }
      ]
    },
    {
      "cell_type": "code",
      "metadata": {
        "id": "eU3QA22WphaT",
        "colab": {
          "base_uri": "https://localhost:8080/",
          "height": 297
        },
        "outputId": "3b924156-6892-4ded-babf-33921436bcd9"
      },
      "source": [
        "from nltk.sentiment.vader import SentimentIntensityAnalyzer\r\n",
        "import unicodedata\r\n",
        "\r\n",
        "#Sentiment Analyzer\r\n",
        "sid = SentimentIntensityAnalyzer()\r\n",
        "print('Start calculating sentiment scores:')\r\n",
        "\r\n",
        "stock_data['compound'] = stock_data['headline_text'].apply(lambda x: sid.polarity_scores(x)['compound'])\r\n",
        "print('Compound Done')\r\n",
        "stock_data['negative'] = stock_data['headline_text'].apply(lambda x: sid.polarity_scores(x)['neg'])\r\n",
        "print('Negative Done')\r\n",
        "stock_data['neutral'] = stock_data['headline_text'].apply(lambda x: sid.polarity_scores(x)['neu'])\r\n",
        "print('Neutral Done')\r\n",
        "stock_data['positive'] = stock_data['headline_text'].apply(lambda x: sid.polarity_scores(x)['pos'])\r\n",
        "print('Positive Done')\r\n",
        "print('Stop')\r\n",
        "\r\n",
        "stock_data.head()"
      ],
      "execution_count": 21,
      "outputs": [
        {
          "output_type": "stream",
          "text": [
            "Start calculating sentiment scores:\n",
            "Compound Done\n",
            "Negative Done\n",
            "Neutral Done\n",
            "Positive Done\n",
            "Stop\n"
          ],
          "name": "stdout"
        },
        {
          "output_type": "execute_result",
          "data": {
            "text/html": [
              "<div>\n",
              "<style scoped>\n",
              "    .dataframe tbody tr th:only-of-type {\n",
              "        vertical-align: middle;\n",
              "    }\n",
              "\n",
              "    .dataframe tbody tr th {\n",
              "        vertical-align: top;\n",
              "    }\n",
              "\n",
              "    .dataframe thead th {\n",
              "        text-align: right;\n",
              "    }\n",
              "</style>\n",
              "<table border=\"1\" class=\"dataframe\">\n",
              "  <thead>\n",
              "    <tr style=\"text-align: right;\">\n",
              "      <th></th>\n",
              "      <th>Close</th>\n",
              "      <th>Open</th>\n",
              "      <th>High</th>\n",
              "      <th>Low</th>\n",
              "      <th>Volume</th>\n",
              "      <th>headline_text</th>\n",
              "      <th>coumpound</th>\n",
              "      <th>negative</th>\n",
              "      <th>neutral</th>\n",
              "      <th>positive</th>\n",
              "      <th>compound</th>\n",
              "    </tr>\n",
              "  </thead>\n",
              "  <tbody>\n",
              "    <tr>\n",
              "      <th>2005-01-03</th>\n",
              "      <td>6679.200195</td>\n",
              "      <td>6626.490234</td>\n",
              "      <td>6684.220215</td>\n",
              "      <td>6626.490234</td>\n",
              "      <td>12000.0</td>\n",
              "      <td>ICAI compliments minister,Partnering for futur...</td>\n",
              "      <td></td>\n",
              "      <td>0.114</td>\n",
              "      <td>0.802</td>\n",
              "      <td>0.084</td>\n",
              "      <td>-0.9731</td>\n",
              "    </tr>\n",
              "    <tr>\n",
              "      <th>2005-01-04</th>\n",
              "      <td>6651.009766</td>\n",
              "      <td>6683.560059</td>\n",
              "      <td>6696.310059</td>\n",
              "      <td>6640.899902</td>\n",
              "      <td>16600.0</td>\n",
              "      <td>Arab Gaze,Uniform Laws,Tsunami Relief,Double S...</td>\n",
              "      <td></td>\n",
              "      <td>0.062</td>\n",
              "      <td>0.880</td>\n",
              "      <td>0.059</td>\n",
              "      <td>-0.7600</td>\n",
              "    </tr>\n",
              "    <tr>\n",
              "      <th>2005-01-05</th>\n",
              "      <td>6458.839844</td>\n",
              "      <td>6628.890137</td>\n",
              "      <td>6629.979980</td>\n",
              "      <td>6337.609863</td>\n",
              "      <td>24000.0</td>\n",
              "      <td>Quake Rumours,Mishap reunites 12-yr boy with f...</td>\n",
              "      <td></td>\n",
              "      <td>0.110</td>\n",
              "      <td>0.805</td>\n",
              "      <td>0.085</td>\n",
              "      <td>-0.9757</td>\n",
              "    </tr>\n",
              "    <tr>\n",
              "      <th>2005-01-06</th>\n",
              "      <td>6367.390137</td>\n",
              "      <td>6447.270020</td>\n",
              "      <td>6481.229980</td>\n",
              "      <td>6325.359863</td>\n",
              "      <td>22200.0</td>\n",
              "      <td>Doon School preparing to admit girls?,Market M...</td>\n",
              "      <td></td>\n",
              "      <td>0.073</td>\n",
              "      <td>0.825</td>\n",
              "      <td>0.102</td>\n",
              "      <td>0.9417</td>\n",
              "    </tr>\n",
              "    <tr>\n",
              "      <th>2005-01-07</th>\n",
              "      <td>6420.459961</td>\n",
              "      <td>6374.189941</td>\n",
              "      <td>6440.169922</td>\n",
              "      <td>6348.750000</td>\n",
              "      <td>17800.0</td>\n",
              "      <td>Faultline Repair,No Parade; Please,NRI Spirit,...</td>\n",
              "      <td></td>\n",
              "      <td>0.087</td>\n",
              "      <td>0.836</td>\n",
              "      <td>0.076</td>\n",
              "      <td>-0.9456</td>\n",
              "    </tr>\n",
              "  </tbody>\n",
              "</table>\n",
              "</div>"
            ],
            "text/plain": [
              "                  Close         Open         High  ...  neutral  positive compound\n",
              "2005-01-03  6679.200195  6626.490234  6684.220215  ...    0.802     0.084  -0.9731\n",
              "2005-01-04  6651.009766  6683.560059  6696.310059  ...    0.880     0.059  -0.7600\n",
              "2005-01-05  6458.839844  6628.890137  6629.979980  ...    0.805     0.085  -0.9757\n",
              "2005-01-06  6367.390137  6447.270020  6481.229980  ...    0.825     0.102   0.9417\n",
              "2005-01-07  6420.459961  6374.189941  6440.169922  ...    0.836     0.076  -0.9456\n",
              "\n",
              "[5 rows x 11 columns]"
            ]
          },
          "metadata": {
            "tags": []
          },
          "execution_count": 21
        }
      ]
    },
    {
      "cell_type": "code",
      "metadata": {
        "id": "iYHJ4Yk0DWEu",
        "colab": {
          "base_uri": "https://localhost:8080/",
          "height": 196
        },
        "outputId": "9aac355d-d7cb-464f-d092-e6687ed6d281"
      },
      "source": [
        "stock_data.drop(['headline_text'], inplace = True, axis = 1)\r\n",
        "stock_data = stock_data[['Close', 'compound', 'negative', 'neutral', 'positive', 'Open', 'High', 'Low', 'Volume']]\r\n",
        "stock_data.head()"
      ],
      "execution_count": 23,
      "outputs": [
        {
          "output_type": "execute_result",
          "data": {
            "text/html": [
              "<div>\n",
              "<style scoped>\n",
              "    .dataframe tbody tr th:only-of-type {\n",
              "        vertical-align: middle;\n",
              "    }\n",
              "\n",
              "    .dataframe tbody tr th {\n",
              "        vertical-align: top;\n",
              "    }\n",
              "\n",
              "    .dataframe thead th {\n",
              "        text-align: right;\n",
              "    }\n",
              "</style>\n",
              "<table border=\"1\" class=\"dataframe\">\n",
              "  <thead>\n",
              "    <tr style=\"text-align: right;\">\n",
              "      <th></th>\n",
              "      <th>Close</th>\n",
              "      <th>compound</th>\n",
              "      <th>negative</th>\n",
              "      <th>neutral</th>\n",
              "      <th>positive</th>\n",
              "      <th>Open</th>\n",
              "      <th>High</th>\n",
              "      <th>Low</th>\n",
              "      <th>Volume</th>\n",
              "    </tr>\n",
              "  </thead>\n",
              "  <tbody>\n",
              "    <tr>\n",
              "      <th>2005-01-03</th>\n",
              "      <td>6679.200195</td>\n",
              "      <td>-0.9731</td>\n",
              "      <td>0.114</td>\n",
              "      <td>0.802</td>\n",
              "      <td>0.084</td>\n",
              "      <td>6626.490234</td>\n",
              "      <td>6684.220215</td>\n",
              "      <td>6626.490234</td>\n",
              "      <td>12000.0</td>\n",
              "    </tr>\n",
              "    <tr>\n",
              "      <th>2005-01-04</th>\n",
              "      <td>6651.009766</td>\n",
              "      <td>-0.7600</td>\n",
              "      <td>0.062</td>\n",
              "      <td>0.880</td>\n",
              "      <td>0.059</td>\n",
              "      <td>6683.560059</td>\n",
              "      <td>6696.310059</td>\n",
              "      <td>6640.899902</td>\n",
              "      <td>16600.0</td>\n",
              "    </tr>\n",
              "    <tr>\n",
              "      <th>2005-01-05</th>\n",
              "      <td>6458.839844</td>\n",
              "      <td>-0.9757</td>\n",
              "      <td>0.110</td>\n",
              "      <td>0.805</td>\n",
              "      <td>0.085</td>\n",
              "      <td>6628.890137</td>\n",
              "      <td>6629.979980</td>\n",
              "      <td>6337.609863</td>\n",
              "      <td>24000.0</td>\n",
              "    </tr>\n",
              "    <tr>\n",
              "      <th>2005-01-06</th>\n",
              "      <td>6367.390137</td>\n",
              "      <td>0.9417</td>\n",
              "      <td>0.073</td>\n",
              "      <td>0.825</td>\n",
              "      <td>0.102</td>\n",
              "      <td>6447.270020</td>\n",
              "      <td>6481.229980</td>\n",
              "      <td>6325.359863</td>\n",
              "      <td>22200.0</td>\n",
              "    </tr>\n",
              "    <tr>\n",
              "      <th>2005-01-07</th>\n",
              "      <td>6420.459961</td>\n",
              "      <td>-0.9456</td>\n",
              "      <td>0.087</td>\n",
              "      <td>0.836</td>\n",
              "      <td>0.076</td>\n",
              "      <td>6374.189941</td>\n",
              "      <td>6440.169922</td>\n",
              "      <td>6348.750000</td>\n",
              "      <td>17800.0</td>\n",
              "    </tr>\n",
              "  </tbody>\n",
              "</table>\n",
              "</div>"
            ],
            "text/plain": [
              "                  Close  compound  negative  ...         High          Low   Volume\n",
              "2005-01-03  6679.200195   -0.9731     0.114  ...  6684.220215  6626.490234  12000.0\n",
              "2005-01-04  6651.009766   -0.7600     0.062  ...  6696.310059  6640.899902  16600.0\n",
              "2005-01-05  6458.839844   -0.9757     0.110  ...  6629.979980  6337.609863  24000.0\n",
              "2005-01-06  6367.390137    0.9417     0.073  ...  6481.229980  6325.359863  22200.0\n",
              "2005-01-07  6420.459961   -0.9456     0.087  ...  6440.169922  6348.750000  17800.0\n",
              "\n",
              "[5 rows x 9 columns]"
            ]
          },
          "metadata": {
            "tags": []
          },
          "execution_count": 23
        }
      ]
    },
    {
      "cell_type": "markdown",
      "metadata": {
        "id": "we3KsKBIviVh"
      },
      "source": [
        "**Feature Engineering of the Combined Data**"
      ]
    },
    {
      "cell_type": "code",
      "metadata": {
        "id": "2nC4Mi0cDWIf",
        "colab": {
          "base_uri": "https://localhost:8080/"
        },
        "outputId": "89ec5716-4c6a-4d11-c2e2-5e5d6c550340"
      },
      "source": [
        "stock_data.isna().any()"
      ],
      "execution_count": 24,
      "outputs": [
        {
          "output_type": "execute_result",
          "data": {
            "text/plain": [
              "Close       False\n",
              "compound    False\n",
              "negative    False\n",
              "neutral     False\n",
              "positive    False\n",
              "Open        False\n",
              "High        False\n",
              "Low         False\n",
              "Volume      False\n",
              "dtype: bool"
            ]
          },
          "metadata": {
            "tags": []
          },
          "execution_count": 24
        }
      ]
    },
    {
      "cell_type": "code",
      "metadata": {
        "id": "Ritu7LvVDWMZ",
        "colab": {
          "base_uri": "https://localhost:8080/",
          "height": 286
        },
        "outputId": "cba2c901-3369-429f-f2bb-6098b3f28f03"
      },
      "source": [
        "stock_data.describe(include='all')"
      ],
      "execution_count": 25,
      "outputs": [
        {
          "output_type": "execute_result",
          "data": {
            "text/html": [
              "<div>\n",
              "<style scoped>\n",
              "    .dataframe tbody tr th:only-of-type {\n",
              "        vertical-align: middle;\n",
              "    }\n",
              "\n",
              "    .dataframe tbody tr th {\n",
              "        vertical-align: top;\n",
              "    }\n",
              "\n",
              "    .dataframe thead th {\n",
              "        text-align: right;\n",
              "    }\n",
              "</style>\n",
              "<table border=\"1\" class=\"dataframe\">\n",
              "  <thead>\n",
              "    <tr style=\"text-align: right;\">\n",
              "      <th></th>\n",
              "      <th>Close</th>\n",
              "      <th>compound</th>\n",
              "      <th>negative</th>\n",
              "      <th>neutral</th>\n",
              "      <th>positive</th>\n",
              "      <th>Open</th>\n",
              "      <th>High</th>\n",
              "      <th>Low</th>\n",
              "      <th>Volume</th>\n",
              "    </tr>\n",
              "  </thead>\n",
              "  <tbody>\n",
              "    <tr>\n",
              "      <th>count</th>\n",
              "      <td>3924.000000</td>\n",
              "      <td>3924.000000</td>\n",
              "      <td>3924.000000</td>\n",
              "      <td>3924.000000</td>\n",
              "      <td>3924.000000</td>\n",
              "      <td>3924.000000</td>\n",
              "      <td>3924.000000</td>\n",
              "      <td>3924.000000</td>\n",
              "      <td>3.924000e+03</td>\n",
              "    </tr>\n",
              "    <tr>\n",
              "      <th>mean</th>\n",
              "      <td>22298.458085</td>\n",
              "      <td>-0.904143</td>\n",
              "      <td>0.128401</td>\n",
              "      <td>0.784846</td>\n",
              "      <td>0.086764</td>\n",
              "      <td>22323.202845</td>\n",
              "      <td>22455.392965</td>\n",
              "      <td>22146.645710</td>\n",
              "      <td>9.799867e+04</td>\n",
              "    </tr>\n",
              "    <tr>\n",
              "      <th>std</th>\n",
              "      <td>9548.368404</td>\n",
              "      <td>0.402293</td>\n",
              "      <td>0.021218</td>\n",
              "      <td>0.027104</td>\n",
              "      <td>0.015803</td>\n",
              "      <td>9565.093295</td>\n",
              "      <td>9585.146826</td>\n",
              "      <td>9516.588063</td>\n",
              "      <td>1.194171e+06</td>\n",
              "    </tr>\n",
              "    <tr>\n",
              "      <th>min</th>\n",
              "      <td>6102.740234</td>\n",
              "      <td>-1.000000</td>\n",
              "      <td>0.038000</td>\n",
              "      <td>0.637000</td>\n",
              "      <td>0.029000</td>\n",
              "      <td>6093.660156</td>\n",
              "      <td>6174.000000</td>\n",
              "      <td>6069.330078</td>\n",
              "      <td>8.000000e+02</td>\n",
              "    </tr>\n",
              "    <tr>\n",
              "      <th>25%</th>\n",
              "      <td>15687.654786</td>\n",
              "      <td>-0.999800</td>\n",
              "      <td>0.115000</td>\n",
              "      <td>0.766000</td>\n",
              "      <td>0.077000</td>\n",
              "      <td>15693.625000</td>\n",
              "      <td>15833.409912</td>\n",
              "      <td>15478.495361</td>\n",
              "      <td>1.077500e+04</td>\n",
              "    </tr>\n",
              "    <tr>\n",
              "      <th>50%</th>\n",
              "      <td>19598.490235</td>\n",
              "      <td>-0.999500</td>\n",
              "      <td>0.129000</td>\n",
              "      <td>0.782000</td>\n",
              "      <td>0.086000</td>\n",
              "      <td>19602.250000</td>\n",
              "      <td>19726.554688</td>\n",
              "      <td>19460.065430</td>\n",
              "      <td>1.445000e+04</td>\n",
              "    </tr>\n",
              "    <tr>\n",
              "      <th>75%</th>\n",
              "      <td>28722.527832</td>\n",
              "      <td>-0.997400</td>\n",
              "      <td>0.142000</td>\n",
              "      <td>0.801000</td>\n",
              "      <td>0.096250</td>\n",
              "      <td>28800.262207</td>\n",
              "      <td>28884.082032</td>\n",
              "      <td>28566.407227</td>\n",
              "      <td>2.020000e+04</td>\n",
              "    </tr>\n",
              "    <tr>\n",
              "      <th>max</th>\n",
              "      <td>47751.328125</td>\n",
              "      <td>1.000000</td>\n",
              "      <td>0.216000</td>\n",
              "      <td>0.903000</td>\n",
              "      <td>0.253000</td>\n",
              "      <td>47789.031250</td>\n",
              "      <td>47896.968750</td>\n",
              "      <td>47602.121094</td>\n",
              "      <td>3.181510e+07</td>\n",
              "    </tr>\n",
              "  </tbody>\n",
              "</table>\n",
              "</div>"
            ],
            "text/plain": [
              "              Close     compound  ...           Low        Volume\n",
              "count   3924.000000  3924.000000  ...   3924.000000  3.924000e+03\n",
              "mean   22298.458085    -0.904143  ...  22146.645710  9.799867e+04\n",
              "std     9548.368404     0.402293  ...   9516.588063  1.194171e+06\n",
              "min     6102.740234    -1.000000  ...   6069.330078  8.000000e+02\n",
              "25%    15687.654786    -0.999800  ...  15478.495361  1.077500e+04\n",
              "50%    19598.490235    -0.999500  ...  19460.065430  1.445000e+04\n",
              "75%    28722.527832    -0.997400  ...  28566.407227  2.020000e+04\n",
              "max    47751.328125     1.000000  ...  47602.121094  3.181510e+07\n",
              "\n",
              "[8 rows x 9 columns]"
            ]
          },
          "metadata": {
            "tags": []
          },
          "execution_count": 25
        }
      ]
    },
    {
      "cell_type": "code",
      "metadata": {
        "id": "h5T4gEGupheF",
        "colab": {
          "base_uri": "https://localhost:8080/"
        },
        "outputId": "7dcff6cc-8282-49c7-b2c0-eb8af0e0640a"
      },
      "source": [
        "stock_data.info()"
      ],
      "execution_count": 26,
      "outputs": [
        {
          "output_type": "stream",
          "text": [
            "<class 'pandas.core.frame.DataFrame'>\n",
            "DatetimeIndex: 3924 entries, 2005-01-03 to 2020-12-31\n",
            "Data columns (total 9 columns):\n",
            " #   Column    Non-Null Count  Dtype  \n",
            "---  ------    --------------  -----  \n",
            " 0   Close     3924 non-null   float64\n",
            " 1   compound  3924 non-null   float64\n",
            " 2   negative  3924 non-null   float64\n",
            " 3   neutral   3924 non-null   float64\n",
            " 4   positive  3924 non-null   float64\n",
            " 5   Open      3924 non-null   float64\n",
            " 6   High      3924 non-null   float64\n",
            " 7   Low       3924 non-null   float64\n",
            " 8   Volume    3924 non-null   float64\n",
            "dtypes: float64(9)\n",
            "memory usage: 306.6 KB\n"
          ],
          "name": "stdout"
        }
      ]
    },
    {
      "cell_type": "markdown",
      "metadata": {
        "id": "HBRP3jxnwSZN"
      },
      "source": [
        "**Stock Data Analysis**"
      ]
    },
    {
      "cell_type": "code",
      "metadata": {
        "colab": {
          "base_uri": "https://localhost:8080/",
          "height": 596
        },
        "id": "pmVTOXwHwMvB",
        "outputId": "50c67652-b090-480a-df2e-747d218b571a"
      },
      "source": [
        "plt.figure(figsize = (15,10))\r\n",
        "stock_data['Close'].plot()\r\n",
        "plt.title(\"Close Price\")\r\n",
        "plt.xlabel('Date')\r\n",
        "plt.ylabel(\"Close Price(INR\")"
      ],
      "execution_count": 28,
      "outputs": [
        {
          "output_type": "execute_result",
          "data": {
            "text/plain": [
              "Text(0, 0.5, 'Close Price(INR')"
            ]
          },
          "metadata": {
            "tags": []
          },
          "execution_count": 28
        },
        {
          "output_type": "display_data",
          "data": {
            "image/png": "[encoded data removed]",
            "text/plain": [
              "<Figure size 1080x720 with 1 Axes>"
            ]
          },
          "metadata": {
            "tags": [],
            "needs_background": "light"
          }
        }
      ]
    },
    {
      "cell_type": "code",
      "metadata": {
        "colab": {
          "base_uri": "https://localhost:8080/",
          "height": 644
        },
        "id": "c_6wg37IwMy1",
        "outputId": "a0e2ebda-2abd-4f72-a3ce-050760072cab"
      },
      "source": [
        "stock_data.rolling(7).mean().head(20)"
      ],
      "execution_count": 29,
      "outputs": [
        {
          "output_type": "execute_result",
          "data": {
            "text/html": [
              "<div>\n",
              "<style scoped>\n",
              "    .dataframe tbody tr th:only-of-type {\n",
              "        vertical-align: middle;\n",
              "    }\n",
              "\n",
              "    .dataframe tbody tr th {\n",
              "        vertical-align: top;\n",
              "    }\n",
              "\n",
              "    .dataframe thead th {\n",
              "        text-align: right;\n",
              "    }\n",
              "</style>\n",
              "<table border=\"1\" class=\"dataframe\">\n",
              "  <thead>\n",
              "    <tr style=\"text-align: right;\">\n",
              "      <th></th>\n",
              "      <th>Close</th>\n",
              "      <th>compound</th>\n",
              "      <th>negative</th>\n",
              "      <th>neutral</th>\n",
              "      <th>positive</th>\n",
              "      <th>Open</th>\n",
              "      <th>High</th>\n",
              "      <th>Low</th>\n",
              "      <th>Volume</th>\n",
              "    </tr>\n",
              "  </thead>\n",
              "  <tbody>\n",
              "    <tr>\n",
              "      <th>2005-01-03</th>\n",
              "      <td>NaN</td>\n",
              "      <td>NaN</td>\n",
              "      <td>NaN</td>\n",
              "      <td>NaN</td>\n",
              "      <td>NaN</td>\n",
              "      <td>NaN</td>\n",
              "      <td>NaN</td>\n",
              "      <td>NaN</td>\n",
              "      <td>NaN</td>\n",
              "    </tr>\n",
              "    <tr>\n",
              "      <th>2005-01-04</th>\n",
              "      <td>NaN</td>\n",
              "      <td>NaN</td>\n",
              "      <td>NaN</td>\n",
              "      <td>NaN</td>\n",
              "      <td>NaN</td>\n",
              "      <td>NaN</td>\n",
              "      <td>NaN</td>\n",
              "      <td>NaN</td>\n",
              "      <td>NaN</td>\n",
              "    </tr>\n",
              "    <tr>\n",
              "      <th>2005-01-05</th>\n",
              "      <td>NaN</td>\n",
              "      <td>NaN</td>\n",
              "      <td>NaN</td>\n",
              "      <td>NaN</td>\n",
              "      <td>NaN</td>\n",
              "      <td>NaN</td>\n",
              "      <td>NaN</td>\n",
              "      <td>NaN</td>\n",
              "      <td>NaN</td>\n",
              "    </tr>\n",
              "    <tr>\n",
              "      <th>2005-01-06</th>\n",
              "      <td>NaN</td>\n",
              "      <td>NaN</td>\n",
              "      <td>NaN</td>\n",
              "      <td>NaN</td>\n",
              "      <td>NaN</td>\n",
              "      <td>NaN</td>\n",
              "      <td>NaN</td>\n",
              "      <td>NaN</td>\n",
              "      <td>NaN</td>\n",
              "    </tr>\n",
              "    <tr>\n",
              "      <th>2005-01-07</th>\n",
              "      <td>NaN</td>\n",
              "      <td>NaN</td>\n",
              "      <td>NaN</td>\n",
              "      <td>NaN</td>\n",
              "      <td>NaN</td>\n",
              "      <td>NaN</td>\n",
              "      <td>NaN</td>\n",
              "      <td>NaN</td>\n",
              "      <td>NaN</td>\n",
              "    </tr>\n",
              "    <tr>\n",
              "      <th>2005-01-10</th>\n",
              "      <td>NaN</td>\n",
              "      <td>NaN</td>\n",
              "      <td>NaN</td>\n",
              "      <td>NaN</td>\n",
              "      <td>NaN</td>\n",
              "      <td>NaN</td>\n",
              "      <td>NaN</td>\n",
              "      <td>NaN</td>\n",
              "      <td>NaN</td>\n",
              "    </tr>\n",
              "    <tr>\n",
              "      <th>2005-01-11</th>\n",
              "      <td>6444.044294</td>\n",
              "      <td>-0.389857</td>\n",
              "      <td>0.090429</td>\n",
              "      <td>0.821714</td>\n",
              "      <td>0.087857</td>\n",
              "      <td>6502.588658</td>\n",
              "      <td>6532.984305</td>\n",
              "      <td>6396.397112</td>\n",
              "      <td>17428.571429</td>\n",
              "    </tr>\n",
              "    <tr>\n",
              "      <th>2005-01-12</th>\n",
              "      <td>6361.692871</td>\n",
              "      <td>-0.387243</td>\n",
              "      <td>0.089429</td>\n",
              "      <td>0.822143</td>\n",
              "      <td>0.088429</td>\n",
              "      <td>6448.854353</td>\n",
              "      <td>6472.911412</td>\n",
              "      <td>6316.945661</td>\n",
              "      <td>18685.714286</td>\n",
              "    </tr>\n",
              "    <tr>\n",
              "      <th>2005-01-13</th>\n",
              "      <td>6300.271484</td>\n",
              "      <td>-0.350286</td>\n",
              "      <td>0.094571</td>\n",
              "      <td>0.810714</td>\n",
              "      <td>0.094429</td>\n",
              "      <td>6370.924317</td>\n",
              "      <td>6408.145717</td>\n",
              "      <td>6245.109933</td>\n",
              "      <td>19200.000000</td>\n",
              "    </tr>\n",
              "    <tr>\n",
              "      <th>2005-01-14</th>\n",
              "      <td>6259.554339</td>\n",
              "      <td>-0.099329</td>\n",
              "      <td>0.086571</td>\n",
              "      <td>0.821714</td>\n",
              "      <td>0.091429</td>\n",
              "      <td>6314.285714</td>\n",
              "      <td>6353.775739</td>\n",
              "      <td>6217.462821</td>\n",
              "      <td>18371.428571</td>\n",
              "    </tr>\n",
              "    <tr>\n",
              "      <th>2005-01-17</th>\n",
              "      <td>6234.794294</td>\n",
              "      <td>-0.375643</td>\n",
              "      <td>0.094000</td>\n",
              "      <td>0.818429</td>\n",
              "      <td>0.087286</td>\n",
              "      <td>6279.352888</td>\n",
              "      <td>6318.310059</td>\n",
              "      <td>6183.489955</td>\n",
              "      <td>17914.285714</td>\n",
              "    </tr>\n",
              "    <tr>\n",
              "      <th>2005-01-18</th>\n",
              "      <td>6202.207171</td>\n",
              "      <td>-0.383271</td>\n",
              "      <td>0.106429</td>\n",
              "      <td>0.808714</td>\n",
              "      <td>0.084714</td>\n",
              "      <td>6257.508580</td>\n",
              "      <td>6293.658622</td>\n",
              "      <td>6158.395647</td>\n",
              "      <td>18485.714286</td>\n",
              "    </tr>\n",
              "    <tr>\n",
              "      <th>2005-01-19</th>\n",
              "      <td>6182.889997</td>\n",
              "      <td>-0.612257</td>\n",
              "      <td>0.108571</td>\n",
              "      <td>0.811857</td>\n",
              "      <td>0.079429</td>\n",
              "      <td>6224.787109</td>\n",
              "      <td>6259.591518</td>\n",
              "      <td>6140.368513</td>\n",
              "      <td>18971.428571</td>\n",
              "    </tr>\n",
              "    <tr>\n",
              "      <th>2005-01-20</th>\n",
              "      <td>6177.228585</td>\n",
              "      <td>-0.607957</td>\n",
              "      <td>0.105143</td>\n",
              "      <td>0.818429</td>\n",
              "      <td>0.076143</td>\n",
              "      <td>6203.778530</td>\n",
              "      <td>6240.637207</td>\n",
              "      <td>6123.548549</td>\n",
              "      <td>20457.142857</td>\n",
              "    </tr>\n",
              "    <tr>\n",
              "      <th>2005-01-24</th>\n",
              "      <td>6177.755720</td>\n",
              "      <td>-0.339414</td>\n",
              "      <td>0.099714</td>\n",
              "      <td>0.825143</td>\n",
              "      <td>0.074857</td>\n",
              "      <td>6196.814244</td>\n",
              "      <td>6233.790039</td>\n",
              "      <td>6126.289969</td>\n",
              "      <td>20057.142857</td>\n",
              "    </tr>\n",
              "    <tr>\n",
              "      <th>2005-01-25</th>\n",
              "      <td>6169.458566</td>\n",
              "      <td>-0.408500</td>\n",
              "      <td>0.099857</td>\n",
              "      <td>0.831000</td>\n",
              "      <td>0.069143</td>\n",
              "      <td>6190.472865</td>\n",
              "      <td>6223.940011</td>\n",
              "      <td>6116.472866</td>\n",
              "      <td>20228.571429</td>\n",
              "    </tr>\n",
              "    <tr>\n",
              "      <th>2005-01-27</th>\n",
              "      <td>6178.831473</td>\n",
              "      <td>-0.401086</td>\n",
              "      <td>0.108143</td>\n",
              "      <td>0.814143</td>\n",
              "      <td>0.077714</td>\n",
              "      <td>6184.181431</td>\n",
              "      <td>6224.347168</td>\n",
              "      <td>6122.801409</td>\n",
              "      <td>20800.000000</td>\n",
              "    </tr>\n",
              "    <tr>\n",
              "      <th>2005-01-28</th>\n",
              "      <td>6210.977190</td>\n",
              "      <td>-0.393243</td>\n",
              "      <td>0.104857</td>\n",
              "      <td>0.815143</td>\n",
              "      <td>0.080000</td>\n",
              "      <td>6190.255650</td>\n",
              "      <td>6252.597168</td>\n",
              "      <td>6145.331404</td>\n",
              "      <td>21457.142857</td>\n",
              "    </tr>\n",
              "    <tr>\n",
              "      <th>2005-01-31</th>\n",
              "      <td>6262.918596</td>\n",
              "      <td>-0.390600</td>\n",
              "      <td>0.096286</td>\n",
              "      <td>0.821429</td>\n",
              "      <td>0.082286</td>\n",
              "      <td>6224.861398</td>\n",
              "      <td>6295.081473</td>\n",
              "      <td>6185.682827</td>\n",
              "      <td>21485.714286</td>\n",
              "    </tr>\n",
              "    <tr>\n",
              "      <th>2005-02-01</th>\n",
              "      <td>6317.082938</td>\n",
              "      <td>-0.441886</td>\n",
              "      <td>0.103857</td>\n",
              "      <td>0.813143</td>\n",
              "      <td>0.083000</td>\n",
              "      <td>6275.422852</td>\n",
              "      <td>6345.885742</td>\n",
              "      <td>6235.444266</td>\n",
              "      <td>23171.428571</td>\n",
              "    </tr>\n",
              "  </tbody>\n",
              "</table>\n",
              "</div>"
            ],
            "text/plain": [
              "                  Close  compound  ...          Low        Volume\n",
              "2005-01-03          NaN       NaN  ...          NaN           NaN\n",
              "2005-01-04          NaN       NaN  ...          NaN           NaN\n",
              "2005-01-05          NaN       NaN  ...          NaN           NaN\n",
              "2005-01-06          NaN       NaN  ...          NaN           NaN\n",
              "2005-01-07          NaN       NaN  ...          NaN           NaN\n",
              "2005-01-10          NaN       NaN  ...          NaN           NaN\n",
              "2005-01-11  6444.044294 -0.389857  ...  6396.397112  17428.571429\n",
              "2005-01-12  6361.692871 -0.387243  ...  6316.945661  18685.714286\n",
              "2005-01-13  6300.271484 -0.350286  ...  6245.109933  19200.000000\n",
              "2005-01-14  6259.554339 -0.099329  ...  6217.462821  18371.428571\n",
              "2005-01-17  6234.794294 -0.375643  ...  6183.489955  17914.285714\n",
              "2005-01-18  6202.207171 -0.383271  ...  6158.395647  18485.714286\n",
              "2005-01-19  6182.889997 -0.612257  ...  6140.368513  18971.428571\n",
              "2005-01-20  6177.228585 -0.607957  ...  6123.548549  20457.142857\n",
              "2005-01-24  6177.755720 -0.339414  ...  6126.289969  20057.142857\n",
              "2005-01-25  6169.458566 -0.408500  ...  6116.472866  20228.571429\n",
              "2005-01-27  6178.831473 -0.401086  ...  6122.801409  20800.000000\n",
              "2005-01-28  6210.977190 -0.393243  ...  6145.331404  21457.142857\n",
              "2005-01-31  6262.918596 -0.390600  ...  6185.682827  21485.714286\n",
              "2005-02-01  6317.082938 -0.441886  ...  6235.444266  23171.428571\n",
              "\n",
              "[20 rows x 9 columns]"
            ]
          },
          "metadata": {
            "tags": []
          },
          "execution_count": 29
        }
      ]
    },
    {
      "cell_type": "code",
      "metadata": {
        "colab": {
          "base_uri": "https://localhost:8080/",
          "height": 566
        },
        "id": "sPGrHzVbwM3P",
        "outputId": "307085c9-659e-41c2-afb3-0bc00c51826c"
      },
      "source": [
        "plt.figure(figsize=(15,10))\r\n",
        "stock_data['Close'].plot()\r\n",
        "stock_data.rolling(window = 30).mean()['Close'].plot()"
      ],
      "execution_count": 30,
      "outputs": [
        {
          "output_type": "execute_result",
          "data": {
            "text/plain": [
              "<matplotlib.axes._subplots.AxesSubplot at 0x7fed8e852c10>"
            ]
          },
          "metadata": {
            "tags": []
          },
          "execution_count": 30
        },
        {
          "output_type": "display_data",
          "data": {
            "image/png": "[encoded data removed]",
            "text/plain": [
              "<Figure size 1080x720 with 1 Axes>"
            ]
          },
          "metadata": {
            "tags": [],
            "needs_background": "light"
          }
        }
      ]
    },
    {
      "cell_type": "code",
      "metadata": {
        "colab": {
          "base_uri": "https://localhost:8080/",
          "height": 404
        },
        "id": "5t3i79jjwM7X",
        "outputId": "31160776-251e-472e-ab70-d2a7bd71a4ac"
      },
      "source": [
        "stock_data"
      ],
      "execution_count": 31,
      "outputs": [
        {
          "output_type": "execute_result",
          "data": {
            "text/html": [
              "<div>\n",
              "<style scoped>\n",
              "    .dataframe tbody tr th:only-of-type {\n",
              "        vertical-align: middle;\n",
              "    }\n",
              "\n",
              "    .dataframe tbody tr th {\n",
              "        vertical-align: top;\n",
              "    }\n",
              "\n",
              "    .dataframe thead th {\n",
              "        text-align: right;\n",
              "    }\n",
              "</style>\n",
              "<table border=\"1\" class=\"dataframe\">\n",
              "  <thead>\n",
              "    <tr style=\"text-align: right;\">\n",
              "      <th></th>\n",
              "      <th>Close</th>\n",
              "      <th>compound</th>\n",
              "      <th>negative</th>\n",
              "      <th>neutral</th>\n",
              "      <th>positive</th>\n",
              "      <th>Open</th>\n",
              "      <th>High</th>\n",
              "      <th>Low</th>\n",
              "      <th>Volume</th>\n",
              "    </tr>\n",
              "  </thead>\n",
              "  <tbody>\n",
              "    <tr>\n",
              "      <th>2005-01-03</th>\n",
              "      <td>6679.200195</td>\n",
              "      <td>-0.9731</td>\n",
              "      <td>0.114</td>\n",
              "      <td>0.802</td>\n",
              "      <td>0.084</td>\n",
              "      <td>6626.490234</td>\n",
              "      <td>6684.220215</td>\n",
              "      <td>6626.490234</td>\n",
              "      <td>12000.0</td>\n",
              "    </tr>\n",
              "    <tr>\n",
              "      <th>2005-01-04</th>\n",
              "      <td>6651.009766</td>\n",
              "      <td>-0.7600</td>\n",
              "      <td>0.062</td>\n",
              "      <td>0.880</td>\n",
              "      <td>0.059</td>\n",
              "      <td>6683.560059</td>\n",
              "      <td>6696.310059</td>\n",
              "      <td>6640.899902</td>\n",
              "      <td>16600.0</td>\n",
              "    </tr>\n",
              "    <tr>\n",
              "      <th>2005-01-05</th>\n",
              "      <td>6458.839844</td>\n",
              "      <td>-0.9757</td>\n",
              "      <td>0.110</td>\n",
              "      <td>0.805</td>\n",
              "      <td>0.085</td>\n",
              "      <td>6628.890137</td>\n",
              "      <td>6629.979980</td>\n",
              "      <td>6337.609863</td>\n",
              "      <td>24000.0</td>\n",
              "    </tr>\n",
              "    <tr>\n",
              "      <th>2005-01-06</th>\n",
              "      <td>6367.390137</td>\n",
              "      <td>0.9417</td>\n",
              "      <td>0.073</td>\n",
              "      <td>0.825</td>\n",
              "      <td>0.102</td>\n",
              "      <td>6447.270020</td>\n",
              "      <td>6481.229980</td>\n",
              "      <td>6325.359863</td>\n",
              "      <td>22200.0</td>\n",
              "    </tr>\n",
              "    <tr>\n",
              "      <th>2005-01-07</th>\n",
              "      <td>6420.459961</td>\n",
              "      <td>-0.9456</td>\n",
              "      <td>0.087</td>\n",
              "      <td>0.836</td>\n",
              "      <td>0.076</td>\n",
              "      <td>6374.189941</td>\n",
              "      <td>6440.169922</td>\n",
              "      <td>6348.750000</td>\n",
              "      <td>17800.0</td>\n",
              "    </tr>\n",
              "    <tr>\n",
              "      <th>...</th>\n",
              "      <td>...</td>\n",
              "      <td>...</td>\n",
              "      <td>...</td>\n",
              "      <td>...</td>\n",
              "      <td>...</td>\n",
              "      <td>...</td>\n",
              "      <td>...</td>\n",
              "      <td>...</td>\n",
              "      <td>...</td>\n",
              "    </tr>\n",
              "    <tr>\n",
              "      <th>2020-12-24</th>\n",
              "      <td>46973.539063</td>\n",
              "      <td>-0.9966</td>\n",
              "      <td>0.080</td>\n",
              "      <td>0.857</td>\n",
              "      <td>0.063</td>\n",
              "      <td>46743.488281</td>\n",
              "      <td>47053.398438</td>\n",
              "      <td>46539.019531</td>\n",
              "      <td>13700.0</td>\n",
              "    </tr>\n",
              "    <tr>\n",
              "      <th>2020-12-28</th>\n",
              "      <td>47353.750000</td>\n",
              "      <td>-0.9997</td>\n",
              "      <td>0.125</td>\n",
              "      <td>0.792</td>\n",
              "      <td>0.083</td>\n",
              "      <td>47153.589844</td>\n",
              "      <td>47406.718750</td>\n",
              "      <td>47148.238281</td>\n",
              "      <td>9600.0</td>\n",
              "    </tr>\n",
              "    <tr>\n",
              "      <th>2020-12-29</th>\n",
              "      <td>47613.078125</td>\n",
              "      <td>-0.9997</td>\n",
              "      <td>0.134</td>\n",
              "      <td>0.777</td>\n",
              "      <td>0.089</td>\n",
              "      <td>47466.621094</td>\n",
              "      <td>47714.550781</td>\n",
              "      <td>47361.898438</td>\n",
              "      <td>12800.0</td>\n",
              "    </tr>\n",
              "    <tr>\n",
              "      <th>2020-12-30</th>\n",
              "      <td>47746.218750</td>\n",
              "      <td>-0.9997</td>\n",
              "      <td>0.122</td>\n",
              "      <td>0.802</td>\n",
              "      <td>0.076</td>\n",
              "      <td>47789.031250</td>\n",
              "      <td>47807.851563</td>\n",
              "      <td>47358.359375</td>\n",
              "      <td>15600.0</td>\n",
              "    </tr>\n",
              "    <tr>\n",
              "      <th>2020-12-31</th>\n",
              "      <td>47751.328125</td>\n",
              "      <td>-0.9996</td>\n",
              "      <td>0.123</td>\n",
              "      <td>0.784</td>\n",
              "      <td>0.093</td>\n",
              "      <td>47753.109375</td>\n",
              "      <td>47896.968750</td>\n",
              "      <td>47602.121094</td>\n",
              "      <td>13900.0</td>\n",
              "    </tr>\n",
              "  </tbody>\n",
              "</table>\n",
              "<p>3924 rows × 9 columns</p>\n",
              "</div>"
            ],
            "text/plain": [
              "                   Close  compound  ...           Low   Volume\n",
              "2005-01-03   6679.200195   -0.9731  ...   6626.490234  12000.0\n",
              "2005-01-04   6651.009766   -0.7600  ...   6640.899902  16600.0\n",
              "2005-01-05   6458.839844   -0.9757  ...   6337.609863  24000.0\n",
              "2005-01-06   6367.390137    0.9417  ...   6325.359863  22200.0\n",
              "2005-01-07   6420.459961   -0.9456  ...   6348.750000  17800.0\n",
              "...                  ...       ...  ...           ...      ...\n",
              "2020-12-24  46973.539063   -0.9966  ...  46539.019531  13700.0\n",
              "2020-12-28  47353.750000   -0.9997  ...  47148.238281   9600.0\n",
              "2020-12-29  47613.078125   -0.9997  ...  47361.898438  12800.0\n",
              "2020-12-30  47746.218750   -0.9997  ...  47358.359375  15600.0\n",
              "2020-12-31  47751.328125   -0.9996  ...  47602.121094  13900.0\n",
              "\n",
              "[3924 rows x 9 columns]"
            ]
          },
          "metadata": {
            "tags": []
          },
          "execution_count": 31
        }
      ]
    },
    {
      "cell_type": "markdown",
      "metadata": {
        "id": "15xHjFaryC5u"
      },
      "source": [
        "**Data For Modelling**"
      ]
    },
    {
      "cell_type": "code",
      "metadata": {
        "colab": {
          "base_uri": "https://localhost:8080/"
        },
        "id": "JGSIKCZgwM-u",
        "outputId": "9f429e3c-3cf5-4183-c6e4-98bd97850dea"
      },
      "source": [
        "percentage_of_data = 1.0\r\n",
        "data_to_use = int(percentage_of_data*(len(stock_data)-1))\r\n",
        "train_end = int(data_to_use*0.8)\r\n",
        "total_data = len(stock_data)\r\n",
        "start = total_data - data_to_use\r\n",
        "print(\"Number of records in Training Data: \", train_end)\r\n",
        "print(\"Number of records in Test Data: \", total_data - train_end)"
      ],
      "execution_count": 33,
      "outputs": [
        {
          "output_type": "stream",
          "text": [
            "Number of records in Training Data:  3138\n",
            "Number of records in Test Data:  786\n"
          ],
          "name": "stdout"
        }
      ]
    },
    {
      "cell_type": "code",
      "metadata": {
        "id": "jMyHEZPmphhd",
        "colab": {
          "base_uri": "https://localhost:8080/"
        },
        "outputId": "236764de-7bb4-40f5-abef-944df60dca51"
      },
      "source": [
        "steps_to_predict = 1\r\n",
        "close_price = stock_data.iloc[start:total_data,0]#Close\r\n",
        "compound = stock_data.iloc[start:total_data,1]#compound\r\n",
        "negative = stock_data.iloc[start:total_data,2]#neg\r\n",
        "neutral = stock_data.iloc[start:total_data,3]#neu\r\n",
        "positive = stock_data.iloc[start:total_data,4]#pos\r\n",
        "open_price = stock_data.iloc[start:total_data,5]#open\r\n",
        "high = stock_data.iloc[start:total_data,6]#high\r\n",
        "low = stock_data.iloc[start:total_data,7]#low\r\n",
        "volume = stock_data.iloc[start:total_data,8]#volume\r\n",
        "print('Close price:')\r\n",
        "close_price"
      ],
      "execution_count": 34,
      "outputs": [
        {
          "output_type": "stream",
          "text": [
            "Close price:\n"
          ],
          "name": "stdout"
        },
        {
          "output_type": "execute_result",
          "data": {
            "text/plain": [
              "2005-01-04     6651.009766\n",
              "2005-01-05     6458.839844\n",
              "2005-01-06     6367.390137\n",
              "2005-01-07     6420.459961\n",
              "2005-01-10     6308.540039\n",
              "                  ...     \n",
              "2020-12-24    46973.539063\n",
              "2020-12-28    47353.750000\n",
              "2020-12-29    47613.078125\n",
              "2020-12-30    47746.218750\n",
              "2020-12-31    47751.328125\n",
              "Name: Close, Length: 3923, dtype: float64"
            ]
          },
          "metadata": {
            "tags": []
          },
          "execution_count": 34
        }
      ]
    },
    {
      "cell_type": "code",
      "metadata": {
        "id": "C4kuleHJphkz",
        "colab": {
          "base_uri": "https://localhost:8080/",
          "height": 345
        },
        "outputId": "67583bc0-caf7-49d7-fc0a-44b2def3720c"
      },
      "source": [
        "close_price_shifted = close_price.shift(-1) \r\n",
        "compound_shifted = compound.shift(-1) \r\n",
        "data = pd.concat([close_price, close_price_shifted, compound, compound_shifted, volume, open_price, high, low], axis=1)\r\n",
        "data.columns = ['close_price', 'close_price_shifted', 'compound', 'compound_shifted','volume', 'open_price', 'high', 'low']\r\n",
        "data = data.dropna()    \r\n",
        "data.head(10)"
      ],
      "execution_count": 37,
      "outputs": [
        {
          "output_type": "execute_result",
          "data": {
            "text/html": [
              "<div>\n",
              "<style scoped>\n",
              "    .dataframe tbody tr th:only-of-type {\n",
              "        vertical-align: middle;\n",
              "    }\n",
              "\n",
              "    .dataframe tbody tr th {\n",
              "        vertical-align: top;\n",
              "    }\n",
              "\n",
              "    .dataframe thead th {\n",
              "        text-align: right;\n",
              "    }\n",
              "</style>\n",
              "<table border=\"1\" class=\"dataframe\">\n",
              "  <thead>\n",
              "    <tr style=\"text-align: right;\">\n",
              "      <th></th>\n",
              "      <th>close_price</th>\n",
              "      <th>close_price_shifted</th>\n",
              "      <th>compound</th>\n",
              "      <th>compound_shifted</th>\n",
              "      <th>volume</th>\n",
              "      <th>open_price</th>\n",
              "      <th>high</th>\n",
              "      <th>low</th>\n",
              "    </tr>\n",
              "  </thead>\n",
              "  <tbody>\n",
              "    <tr>\n",
              "      <th>2005-01-04</th>\n",
              "      <td>6651.009766</td>\n",
              "      <td>6458.839844</td>\n",
              "      <td>-0.7600</td>\n",
              "      <td>-0.9757</td>\n",
              "      <td>16600.0</td>\n",
              "      <td>6683.560059</td>\n",
              "      <td>6696.310059</td>\n",
              "      <td>6640.899902</td>\n",
              "    </tr>\n",
              "    <tr>\n",
              "      <th>2005-01-05</th>\n",
              "      <td>6458.839844</td>\n",
              "      <td>6367.390137</td>\n",
              "      <td>-0.9757</td>\n",
              "      <td>0.9417</td>\n",
              "      <td>24000.0</td>\n",
              "      <td>6628.890137</td>\n",
              "      <td>6629.979980</td>\n",
              "      <td>6337.609863</td>\n",
              "    </tr>\n",
              "    <tr>\n",
              "      <th>2005-01-06</th>\n",
              "      <td>6367.390137</td>\n",
              "      <td>6420.459961</td>\n",
              "      <td>0.9417</td>\n",
              "      <td>-0.9456</td>\n",
              "      <td>22200.0</td>\n",
              "      <td>6447.270020</td>\n",
              "      <td>6481.229980</td>\n",
              "      <td>6325.359863</td>\n",
              "    </tr>\n",
              "    <tr>\n",
              "      <th>2005-01-07</th>\n",
              "      <td>6420.459961</td>\n",
              "      <td>6308.540039</td>\n",
              "      <td>-0.9456</td>\n",
              "      <td>0.9673</td>\n",
              "      <td>17800.0</td>\n",
              "      <td>6374.189941</td>\n",
              "      <td>6440.169922</td>\n",
              "      <td>6348.750000</td>\n",
              "    </tr>\n",
              "    <tr>\n",
              "      <th>2005-01-10</th>\n",
              "      <td>6308.540039</td>\n",
              "      <td>6222.870117</td>\n",
              "      <td>0.9673</td>\n",
              "      <td>-0.9836</td>\n",
              "      <td>13200.0</td>\n",
              "      <td>6440.330078</td>\n",
              "      <td>6469.089844</td>\n",
              "      <td>6286.850098</td>\n",
              "    </tr>\n",
              "    <tr>\n",
              "      <th>2005-01-11</th>\n",
              "      <td>6222.870117</td>\n",
              "      <td>6102.740234</td>\n",
              "      <td>-0.9836</td>\n",
              "      <td>-0.9548</td>\n",
              "      <td>16200.0</td>\n",
              "      <td>6317.390137</td>\n",
              "      <td>6329.890137</td>\n",
              "      <td>6208.819824</td>\n",
              "    </tr>\n",
              "    <tr>\n",
              "      <th>2005-01-12</th>\n",
              "      <td>6102.740234</td>\n",
              "      <td>6221.060059</td>\n",
              "      <td>-0.9548</td>\n",
              "      <td>-0.5013</td>\n",
              "      <td>20800.0</td>\n",
              "      <td>6250.350098</td>\n",
              "      <td>6263.709961</td>\n",
              "      <td>6070.330078</td>\n",
              "    </tr>\n",
              "    <tr>\n",
              "      <th>2005-01-13</th>\n",
              "      <td>6221.060059</td>\n",
              "      <td>6173.819824</td>\n",
              "      <td>-0.5013</td>\n",
              "      <td>0.7810</td>\n",
              "      <td>20200.0</td>\n",
              "      <td>6138.049805</td>\n",
              "      <td>6242.950195</td>\n",
              "      <td>6138.049805</td>\n",
              "    </tr>\n",
              "    <tr>\n",
              "      <th>2005-01-14</th>\n",
              "      <td>6173.819824</td>\n",
              "      <td>6194.069824</td>\n",
              "      <td>0.7810</td>\n",
              "      <td>-0.9925</td>\n",
              "      <td>18200.0</td>\n",
              "      <td>6232.419922</td>\n",
              "      <td>6249.390137</td>\n",
              "      <td>6144.080078</td>\n",
              "    </tr>\n",
              "    <tr>\n",
              "      <th>2005-01-17</th>\n",
              "      <td>6194.069824</td>\n",
              "      <td>6192.350098</td>\n",
              "      <td>-0.9925</td>\n",
              "      <td>-0.9990</td>\n",
              "      <td>19000.0</td>\n",
              "      <td>6202.740234</td>\n",
              "      <td>6232.970215</td>\n",
              "      <td>6087.549805</td>\n",
              "    </tr>\n",
              "  </tbody>\n",
              "</table>\n",
              "</div>"
            ],
            "text/plain": [
              "            close_price  close_price_shifted  ...         high          low\n",
              "2005-01-04  6651.009766          6458.839844  ...  6696.310059  6640.899902\n",
              "2005-01-05  6458.839844          6367.390137  ...  6629.979980  6337.609863\n",
              "2005-01-06  6367.390137          6420.459961  ...  6481.229980  6325.359863\n",
              "2005-01-07  6420.459961          6308.540039  ...  6440.169922  6348.750000\n",
              "2005-01-10  6308.540039          6222.870117  ...  6469.089844  6286.850098\n",
              "2005-01-11  6222.870117          6102.740234  ...  6329.890137  6208.819824\n",
              "2005-01-12  6102.740234          6221.060059  ...  6263.709961  6070.330078\n",
              "2005-01-13  6221.060059          6173.819824  ...  6242.950195  6138.049805\n",
              "2005-01-14  6173.819824          6194.069824  ...  6249.390137  6144.080078\n",
              "2005-01-17  6194.069824          6192.350098  ...  6232.970215  6087.549805\n",
              "\n",
              "[10 rows x 8 columns]"
            ]
          },
          "metadata": {
            "tags": []
          },
          "execution_count": 37
        }
      ]
    },
    {
      "cell_type": "code",
      "metadata": {
        "id": "bTFP77sAphn4",
        "colab": {
          "base_uri": "https://localhost:8080/"
        },
        "outputId": "9f5597b4-a054-4b7f-d573-9ad40f5b566d"
      },
      "source": [
        "y = data['close_price_shifted']\r\n",
        "y"
      ],
      "execution_count": 38,
      "outputs": [
        {
          "output_type": "execute_result",
          "data": {
            "text/plain": [
              "2005-01-04     6458.839844\n",
              "2005-01-05     6367.390137\n",
              "2005-01-06     6420.459961\n",
              "2005-01-07     6308.540039\n",
              "2005-01-10     6222.870117\n",
              "                  ...     \n",
              "2020-12-23    46973.539063\n",
              "2020-12-24    47353.750000\n",
              "2020-12-28    47613.078125\n",
              "2020-12-29    47746.218750\n",
              "2020-12-30    47751.328125\n",
              "Name: close_price_shifted, Length: 3922, dtype: float64"
            ]
          },
          "metadata": {
            "tags": []
          },
          "execution_count": 38
        }
      ]
    },
    {
      "cell_type": "code",
      "metadata": {
        "id": "JMBcxV2rphq7",
        "colab": {
          "base_uri": "https://localhost:8080/",
          "height": 404
        },
        "outputId": "2e48194f-56bd-4061-900d-244fbdc77b1f"
      },
      "source": [
        "cols = ['close_price', 'close_price_shifted', 'compound', 'compound_shifted','volume', 'open_price', 'high', 'low']\r\n",
        "x = data[cols]\r\n",
        "x"
      ],
      "execution_count": 39,
      "outputs": [
        {
          "output_type": "execute_result",
          "data": {
            "text/html": [
              "<div>\n",
              "<style scoped>\n",
              "    .dataframe tbody tr th:only-of-type {\n",
              "        vertical-align: middle;\n",
              "    }\n",
              "\n",
              "    .dataframe tbody tr th {\n",
              "        vertical-align: top;\n",
              "    }\n",
              "\n",
              "    .dataframe thead th {\n",
              "        text-align: right;\n",
              "    }\n",
              "</style>\n",
              "<table border=\"1\" class=\"dataframe\">\n",
              "  <thead>\n",
              "    <tr style=\"text-align: right;\">\n",
              "      <th></th>\n",
              "      <th>close_price</th>\n",
              "      <th>close_price_shifted</th>\n",
              "      <th>compound</th>\n",
              "      <th>compound_shifted</th>\n",
              "      <th>volume</th>\n",
              "      <th>open_price</th>\n",
              "      <th>high</th>\n",
              "      <th>low</th>\n",
              "    </tr>\n",
              "  </thead>\n",
              "  <tbody>\n",
              "    <tr>\n",
              "      <th>2005-01-04</th>\n",
              "      <td>6651.009766</td>\n",
              "      <td>6458.839844</td>\n",
              "      <td>-0.7600</td>\n",
              "      <td>-0.9757</td>\n",
              "      <td>16600.0</td>\n",
              "      <td>6683.560059</td>\n",
              "      <td>6696.310059</td>\n",
              "      <td>6640.899902</td>\n",
              "    </tr>\n",
              "    <tr>\n",
              "      <th>2005-01-05</th>\n",
              "      <td>6458.839844</td>\n",
              "      <td>6367.390137</td>\n",
              "      <td>-0.9757</td>\n",
              "      <td>0.9417</td>\n",
              "      <td>24000.0</td>\n",
              "      <td>6628.890137</td>\n",
              "      <td>6629.979980</td>\n",
              "      <td>6337.609863</td>\n",
              "    </tr>\n",
              "    <tr>\n",
              "      <th>2005-01-06</th>\n",
              "      <td>6367.390137</td>\n",
              "      <td>6420.459961</td>\n",
              "      <td>0.9417</td>\n",
              "      <td>-0.9456</td>\n",
              "      <td>22200.0</td>\n",
              "      <td>6447.270020</td>\n",
              "      <td>6481.229980</td>\n",
              "      <td>6325.359863</td>\n",
              "    </tr>\n",
              "    <tr>\n",
              "      <th>2005-01-07</th>\n",
              "      <td>6420.459961</td>\n",
              "      <td>6308.540039</td>\n",
              "      <td>-0.9456</td>\n",
              "      <td>0.9673</td>\n",
              "      <td>17800.0</td>\n",
              "      <td>6374.189941</td>\n",
              "      <td>6440.169922</td>\n",
              "      <td>6348.750000</td>\n",
              "    </tr>\n",
              "    <tr>\n",
              "      <th>2005-01-10</th>\n",
              "      <td>6308.540039</td>\n",
              "      <td>6222.870117</td>\n",
              "      <td>0.9673</td>\n",
              "      <td>-0.9836</td>\n",
              "      <td>13200.0</td>\n",
              "      <td>6440.330078</td>\n",
              "      <td>6469.089844</td>\n",
              "      <td>6286.850098</td>\n",
              "    </tr>\n",
              "    <tr>\n",
              "      <th>...</th>\n",
              "      <td>...</td>\n",
              "      <td>...</td>\n",
              "      <td>...</td>\n",
              "      <td>...</td>\n",
              "      <td>...</td>\n",
              "      <td>...</td>\n",
              "      <td>...</td>\n",
              "      <td>...</td>\n",
              "    </tr>\n",
              "    <tr>\n",
              "      <th>2020-12-23</th>\n",
              "      <td>46444.179688</td>\n",
              "      <td>46973.539063</td>\n",
              "      <td>-0.9995</td>\n",
              "      <td>-0.9966</td>\n",
              "      <td>10500.0</td>\n",
              "      <td>46072.300781</td>\n",
              "      <td>46513.320313</td>\n",
              "      <td>45899.101563</td>\n",
              "    </tr>\n",
              "    <tr>\n",
              "      <th>2020-12-24</th>\n",
              "      <td>46973.539063</td>\n",
              "      <td>47353.750000</td>\n",
              "      <td>-0.9966</td>\n",
              "      <td>-0.9997</td>\n",
              "      <td>13700.0</td>\n",
              "      <td>46743.488281</td>\n",
              "      <td>47053.398438</td>\n",
              "      <td>46539.019531</td>\n",
              "    </tr>\n",
              "    <tr>\n",
              "      <th>2020-12-28</th>\n",
              "      <td>47353.750000</td>\n",
              "      <td>47613.078125</td>\n",
              "      <td>-0.9997</td>\n",
              "      <td>-0.9997</td>\n",
              "      <td>9600.0</td>\n",
              "      <td>47153.589844</td>\n",
              "      <td>47406.718750</td>\n",
              "      <td>47148.238281</td>\n",
              "    </tr>\n",
              "    <tr>\n",
              "      <th>2020-12-29</th>\n",
              "      <td>47613.078125</td>\n",
              "      <td>47746.218750</td>\n",
              "      <td>-0.9997</td>\n",
              "      <td>-0.9997</td>\n",
              "      <td>12800.0</td>\n",
              "      <td>47466.621094</td>\n",
              "      <td>47714.550781</td>\n",
              "      <td>47361.898438</td>\n",
              "    </tr>\n",
              "    <tr>\n",
              "      <th>2020-12-30</th>\n",
              "      <td>47746.218750</td>\n",
              "      <td>47751.328125</td>\n",
              "      <td>-0.9997</td>\n",
              "      <td>-0.9996</td>\n",
              "      <td>15600.0</td>\n",
              "      <td>47789.031250</td>\n",
              "      <td>47807.851563</td>\n",
              "      <td>47358.359375</td>\n",
              "    </tr>\n",
              "  </tbody>\n",
              "</table>\n",
              "<p>3922 rows × 8 columns</p>\n",
              "</div>"
            ],
            "text/plain": [
              "             close_price  close_price_shifted  ...          high           low\n",
              "2005-01-04   6651.009766          6458.839844  ...   6696.310059   6640.899902\n",
              "2005-01-05   6458.839844          6367.390137  ...   6629.979980   6337.609863\n",
              "2005-01-06   6367.390137          6420.459961  ...   6481.229980   6325.359863\n",
              "2005-01-07   6420.459961          6308.540039  ...   6440.169922   6348.750000\n",
              "2005-01-10   6308.540039          6222.870117  ...   6469.089844   6286.850098\n",
              "...                  ...                  ...  ...           ...           ...\n",
              "2020-12-23  46444.179688         46973.539063  ...  46513.320313  45899.101563\n",
              "2020-12-24  46973.539063         47353.750000  ...  47053.398438  46539.019531\n",
              "2020-12-28  47353.750000         47613.078125  ...  47406.718750  47148.238281\n",
              "2020-12-29  47613.078125         47746.218750  ...  47714.550781  47361.898438\n",
              "2020-12-30  47746.218750         47751.328125  ...  47807.851563  47358.359375\n",
              "\n",
              "[3922 rows x 8 columns]"
            ]
          },
          "metadata": {
            "tags": []
          },
          "execution_count": 39
        }
      ]
    },
    {
      "cell_type": "code",
      "metadata": {
        "colab": {
          "base_uri": "https://localhost:8080/"
        },
        "id": "hZx-eFWd1w38",
        "outputId": "e7a8764b-457a-416c-fccf-8b512be43f21"
      },
      "source": [
        "scaler_x = preprocessing.MinMaxScaler(feature_range=(-1,1))\r\n",
        "x = np.array(x).reshape(len(x), len(cols))\r\n",
        "x = scaler_x.fit_transform(x)\r\n",
        "scaler_y = preprocessing.MinMaxScaler(feature_range=(-1,1))\r\n",
        "y = np.array(y).reshape(len(y), 1)\r\n",
        "y = scaler_y.fit_transform(y)\r\n",
        "x,y"
      ],
      "execution_count": 40,
      "outputs": [
        {
          "output_type": "execute_result",
          "data": {
            "text/plain": [
              "(array([[-0.97366841, -0.9828998 , -0.76      , ..., -0.9717043 ,\n",
              "         -0.97490936, -0.97231609],\n",
              "        [-0.9828977 , -0.98729129, -0.9757    , ..., -0.97432665,\n",
              "         -0.97809571, -0.9870059 ],\n",
              "        [-0.98728973, -0.98474283,  0.9417    , ..., -0.98303841,\n",
              "         -0.98524134, -0.98759923],\n",
              "        ...,\n",
              "        [ 0.98115101,  0.99336112, -0.9997    , ...,  0.96951981,\n",
              "          0.98073045,  0.9896514 ],\n",
              "        [ 0.99360569,  0.99975464, -0.9997    , ...,  0.98453497,\n",
              "          0.99551803,  1.        ],\n",
              "        [ 1.        ,  1.        , -0.9997    , ...,  1.        ,\n",
              "          1.        ,  0.99982859]]), array([[-0.9828998 ],\n",
              "        [-0.98729129],\n",
              "        [-0.98474283],\n",
              "        ...,\n",
              "        [ 0.99336112],\n",
              "        [ 0.99975464],\n",
              "        [ 1.        ]]))"
            ]
          },
          "metadata": {
            "tags": []
          },
          "execution_count": 40
        }
      ]
    },
    {
      "cell_type": "markdown",
      "metadata": {
        "id": "mRgwLrZb3F0W"
      },
      "source": [
        "**Data divided for training and test datasets**"
      ]
    },
    {
      "cell_type": "code",
      "metadata": {
        "colab": {
          "base_uri": "https://localhost:8080/"
        },
        "id": "mt_H1b7U2U9L",
        "outputId": "1359284c-fc10-4871-8919-db9785eb0c06"
      },
      "source": [
        "X_train = x[0:train_end,]\r\n",
        "X_test = x[train_end+1 : len(x),]\r\n",
        "y_train = y[0:train_end,]\r\n",
        "y_test = y[train_end+1 : len(y),]\r\n",
        "\r\n",
        "print(\"Number of rows and columns in Training Set X: \", X_train.shape, 'and y:', y_train.shape)\r\n",
        "print(\"Number of rows and columns in Test Set X:\", X_test.shape, 'and y:', y_test.shape)"
      ],
      "execution_count": 41,
      "outputs": [
        {
          "output_type": "stream",
          "text": [
            "Number of rows and columns in Training Set X:  (3138, 8) and y: (3138, 1)\n",
            "Number of rows and columns in Test Set X: (783, 8) and y: (783, 1)\n"
          ],
          "name": "stdout"
        }
      ]
    },
    {
      "cell_type": "markdown",
      "metadata": {
        "id": "Qq2zHm7K4LKb"
      },
      "source": [
        "**Data Modelling**"
      ]
    },
    {
      "cell_type": "code",
      "metadata": {
        "colab": {
          "base_uri": "https://localhost:8080/"
        },
        "id": "28FdN2Uw2VBA",
        "outputId": "ee049c34-7e14-4165-8501-b1f4d80edd17"
      },
      "source": [
        "np.random.seed(2016)\r\n",
        "model=Sequential()\r\n",
        "model.add(LSTM(100,return_sequences=True,activation='tanh',input_shape=(len(cols),1)))\r\n",
        "model.add(Dropout(0.1))\r\n",
        "model.add(LSTM(100,return_sequences=True,activation='tanh'))\r\n",
        "model.add(Dropout(0.1))\r\n",
        "model.add(LSTM(100,activation='tanh'))\r\n",
        "model.add(Dropout(0.1))\r\n",
        "model.add(Dense(1))\r\n",
        "\r\n",
        "model.summary()"
      ],
      "execution_count": 44,
      "outputs": [
        {
          "output_type": "stream",
          "text": [
            "Model: \"sequential_2\"\n",
            "_________________________________________________________________\n",
            "Layer (type)                 Output Shape              Param #   \n",
            "=================================================================\n",
            "lstm_6 (LSTM)                (None, 8, 100)            40800     \n",
            "_________________________________________________________________\n",
            "dropout_6 (Dropout)          (None, 8, 100)            0         \n",
            "_________________________________________________________________\n",
            "lstm_7 (LSTM)                (None, 8, 100)            80400     \n",
            "_________________________________________________________________\n",
            "dropout_7 (Dropout)          (None, 8, 100)            0         \n",
            "_________________________________________________________________\n",
            "lstm_8 (LSTM)                (None, 100)               80400     \n",
            "_________________________________________________________________\n",
            "dropout_8 (Dropout)          (None, 100)               0         \n",
            "_________________________________________________________________\n",
            "dense (Dense)                (None, 1)                 101       \n",
            "=================================================================\n",
            "Total params: 201,701\n",
            "Trainable params: 201,701\n",
            "Non-trainable params: 0\n",
            "_________________________________________________________________\n"
          ],
          "name": "stdout"
        }
      ]
    },
    {
      "cell_type": "code",
      "metadata": {
        "id": "SB3pDMmB6E_3"
      },
      "source": [
        ""
      ],
      "execution_count": null,
      "outputs": []
    },
    {
      "cell_type": "code",
      "metadata": {
        "id": "1L_GUFG36FDz"
      },
      "source": [
        ""
      ],
      "execution_count": null,
      "outputs": []
    },
    {
      "cell_type": "code",
      "metadata": {
        "id": "uQuV-oWR6FH5"
      },
      "source": [
        ""
      ],
      "execution_count": null,
      "outputs": []
    },
    {
      "cell_type": "code",
      "metadata": {
        "id": "LccRAD2B2VMC"
      },
      "source": [
        ""
      ],
      "execution_count": null,
      "outputs": []
    },
    {
      "cell_type": "code",
      "metadata": {
        "id": "jbGZUSbF1w8A"
      },
      "source": [
        ""
      ],
      "execution_count": null,
      "outputs": []
    },
    {
      "cell_type": "code",
      "metadata": {
        "id": "7FKqjmvuphtM"
      },
      "source": [
        ""
      ],
      "execution_count": null,
      "outputs": []
    }
  ]
}